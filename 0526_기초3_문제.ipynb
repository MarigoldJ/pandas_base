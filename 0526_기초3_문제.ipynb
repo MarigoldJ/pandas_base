{
 "cells": [
  {
   "cell_type": "code",
   "execution_count": 65,
   "metadata": {},
   "outputs": [
    {
     "data": {
      "text/plain": [
       "'\\nseaborn의 타이타닉 데이터를 불러오자\\n'"
      ]
     },
     "execution_count": 65,
     "metadata": {},
     "output_type": "execute_result"
    }
   ],
   "source": [
    "'''\n",
    "seaborn의 타이타닉 데이터를 불러오자\n",
    "'''\n",
    "\n"
   ]
  },
  {
   "cell_type": "code",
   "execution_count": 66,
   "metadata": {},
   "outputs": [],
   "source": [
    "import seaborn as sns\n",
    "df = sns.load_dataset('titanic')"
   ]
  },
  {
   "cell_type": "code",
   "execution_count": 67,
   "metadata": {},
   "outputs": [
    {
     "data": {
      "text/plain": [
       "'\\n테이터프레임 구조 확인\\n'"
      ]
     },
     "execution_count": 67,
     "metadata": {},
     "output_type": "execute_result"
    }
   ],
   "source": [
    "'''\n",
    "테이터프레임 구조 확인\n",
    "'''\n",
    "\n",
    "\n"
   ]
  },
  {
   "cell_type": "code",
   "execution_count": 68,
   "metadata": {},
   "outputs": [
    {
     "name": "stdout",
     "output_type": "stream",
     "text": [
      "<class 'pandas.core.frame.DataFrame'>\n",
      "RangeIndex: 891 entries, 0 to 890\n",
      "Data columns (total 15 columns):\n",
      " #   Column       Non-Null Count  Dtype   \n",
      "---  ------       --------------  -----   \n",
      " 0   survived     891 non-null    int64   \n",
      " 1   pclass       891 non-null    int64   \n",
      " 2   sex          891 non-null    object  \n",
      " 3   age          714 non-null    float64 \n",
      " 4   sibsp        891 non-null    int64   \n",
      " 5   parch        891 non-null    int64   \n",
      " 6   fare         891 non-null    float64 \n",
      " 7   embarked     889 non-null    object  \n",
      " 8   class        891 non-null    category\n",
      " 9   who          891 non-null    object  \n",
      " 10  adult_male   891 non-null    bool    \n",
      " 11  deck         203 non-null    category\n",
      " 12  embark_town  889 non-null    object  \n",
      " 13  alive        891 non-null    object  \n",
      " 14  alone        891 non-null    bool    \n",
      "dtypes: bool(2), category(2), float64(2), int64(4), object(5)\n",
      "memory usage: 80.7+ KB\n"
     ]
    }
   ],
   "source": [
    "df.info()"
   ]
  },
  {
   "cell_type": "code",
   "execution_count": 69,
   "metadata": {},
   "outputs": [
    {
     "data": {
      "text/plain": [
       "'\\n이때 info()를 통해 어느 데이터에 누락 데이터가 많은지를 확인하자.\\n문제가 있는지 확인을 해야한다.\\n그 열이 가진 고유값을 확인해 보자.\\nvalue_counts로 확인을 하자. 이때 NaN을 포함시켜야한다.\\n'"
      ]
     },
     "execution_count": 69,
     "metadata": {},
     "output_type": "execute_result"
    }
   ],
   "source": [
    "'''\n",
    "이때 info()를 통해 어느 데이터에 누락 데이터가 많은지를 확인하자.\n",
    "문제가 있는지 확인을 해야한다.\n",
    "그 열이 가진 고유값을 확인해 보자.\n",
    "value_counts로 확인을 하자. 이때 NaN을 포함시켜야한다.\n",
    "'''\n",
    "\n"
   ]
  },
  {
   "cell_type": "code",
   "execution_count": 70,
   "metadata": {},
   "outputs": [
    {
     "name": "stdout",
     "output_type": "stream",
     "text": [
      "< column : survived >\n",
      "0    549\n",
      "1    342\n",
      "Name: survived, dtype: int64\n",
      "------------------------------\n",
      "< column : pclass >\n",
      "3    491\n",
      "1    216\n",
      "2    184\n",
      "Name: pclass, dtype: int64\n",
      "------------------------------\n",
      "< column : sex >\n",
      "male      577\n",
      "female    314\n",
      "Name: sex, dtype: int64\n",
      "------------------------------\n",
      "< column : age >\n",
      "24.00    30\n",
      "22.00    27\n",
      "18.00    26\n",
      "28.00    25\n",
      "19.00    25\n",
      "         ..\n",
      "55.50     1\n",
      "74.00     1\n",
      "0.92      1\n",
      "70.50     1\n",
      "12.00     1\n",
      "Name: age, Length: 88, dtype: int64\n",
      "------------------------------\n",
      "< column : sibsp >\n",
      "0    608\n",
      "1    209\n",
      "2     28\n",
      "4     18\n",
      "3     16\n",
      "8      7\n",
      "5      5\n",
      "Name: sibsp, dtype: int64\n",
      "------------------------------\n",
      "< column : parch >\n",
      "0    678\n",
      "1    118\n",
      "2     80\n",
      "3      5\n",
      "5      5\n",
      "4      4\n",
      "6      1\n",
      "Name: parch, dtype: int64\n",
      "------------------------------\n",
      "< column : fare >\n",
      "8.0500     43\n",
      "13.0000    42\n",
      "7.8958     38\n",
      "7.7500     34\n",
      "26.0000    31\n",
      "           ..\n",
      "50.4958     1\n",
      "13.8583     1\n",
      "8.4583      1\n",
      "7.7250      1\n",
      "7.5208      1\n",
      "Name: fare, Length: 248, dtype: int64\n",
      "------------------------------\n",
      "< column : embarked >\n",
      "S    644\n",
      "C    168\n",
      "Q     77\n",
      "Name: embarked, dtype: int64\n",
      "------------------------------\n",
      "< column : class >\n",
      "Third     491\n",
      "First     216\n",
      "Second    184\n",
      "Name: class, dtype: int64\n",
      "------------------------------\n",
      "< column : who >\n",
      "man      537\n",
      "woman    271\n",
      "child     83\n",
      "Name: who, dtype: int64\n",
      "------------------------------\n",
      "< column : adult_male >\n",
      "True     537\n",
      "False    354\n",
      "Name: adult_male, dtype: int64\n",
      "------------------------------\n",
      "< column : deck >\n",
      "C    59\n",
      "B    47\n",
      "D    33\n",
      "E    32\n",
      "A    15\n",
      "F    13\n",
      "G     4\n",
      "Name: deck, dtype: int64\n",
      "------------------------------\n",
      "< column : embark_town >\n",
      "Southampton    644\n",
      "Cherbourg      168\n",
      "Queenstown      77\n",
      "Name: embark_town, dtype: int64\n",
      "------------------------------\n",
      "< column : alive >\n",
      "no     549\n",
      "yes    342\n",
      "Name: alive, dtype: int64\n",
      "------------------------------\n",
      "< column : alone >\n",
      "True     537\n",
      "False    354\n",
      "Name: alone, dtype: int64\n",
      "------------------------------\n"
     ]
    }
   ],
   "source": [
    "for col in df.columns:\n",
    "    print(f'< column : {col} >')\n",
    "    print(df[col].value_counts())\n",
    "    print('-'*30)"
   ]
  },
  {
   "cell_type": "code",
   "execution_count": 71,
   "metadata": {},
   "outputs": [
    {
     "data": {
      "text/plain": [
       "'\\nfor 반복문으로 각 열의 NaN 개수 계산하기\\n'"
      ]
     },
     "execution_count": 71,
     "metadata": {},
     "output_type": "execute_result"
    }
   ],
   "source": [
    "# 1단계_누락 데이터 처리\n",
    "'''\n",
    "for 반복문으로 각 열의 NaN 개수 계산하기\n",
    "'''"
   ]
  },
  {
   "cell_type": "code",
   "execution_count": 72,
   "metadata": {},
   "outputs": [
    {
     "name": "stdout",
     "output_type": "stream",
     "text": [
      "column별 null의 개수 정리\n",
      "survived     :    0 개\n",
      "pclass       :    0 개\n",
      "sex          :    0 개\n",
      "age          :  177 개\n",
      "sibsp        :    0 개\n",
      "parch        :    0 개\n",
      "fare         :    0 개\n",
      "embarked     :    2 개\n",
      "class        :    0 개\n",
      "who          :    0 개\n",
      "adult_male   :    0 개\n",
      "deck         :  688 개\n",
      "embark_town  :    2 개\n",
      "alive        :    0 개\n",
      "alone        :    0 개\n"
     ]
    }
   ],
   "source": [
    "print('column별 null의 개수 정리')\n",
    "for col in df.columns:\n",
    "    try: \n",
    "        null_num = df[col].isnull().value_counts()[True]\n",
    "    except: \n",
    "        null_num = 0\n",
    "    \n",
    "    print(f'{col:<12s} : {null_num:>4d} 개')\n"
   ]
  },
  {
   "cell_type": "code",
   "execution_count": 73,
   "metadata": {},
   "outputs": [
    {
     "data": {
      "text/plain": [
       "'\\n# NaN 값이 500개 이상인 열을 모두 삭제\\n'"
      ]
     },
     "execution_count": 73,
     "metadata": {},
     "output_type": "execute_result"
    }
   ],
   "source": [
    "# 2단계_누락 데이터 제거\n",
    "'''\n",
    "# NaN 값이 500개 이상인 열을 모두 삭제\n",
    "'''"
   ]
  },
  {
   "cell_type": "code",
   "execution_count": 74,
   "metadata": {},
   "outputs": [
    {
     "name": "stdout",
     "output_type": "stream",
     "text": [
      "before shape > (891, 15)\n",
      "after shape > (891, 14)\n"
     ]
    }
   ],
   "source": [
    "df2 = df.dropna(thresh=500, axis=1)\n",
    "print('before shape >', df.shape)\n",
    "print('after shape >', df2.shape)"
   ]
  },
  {
   "cell_type": "code",
   "execution_count": 75,
   "metadata": {},
   "outputs": [
    {
     "data": {
      "text/plain": [
       "'\\n# age 열에 나이 데이터가 없는 모든 행을 삭제 \\n'"
      ]
     },
     "execution_count": 75,
     "metadata": {},
     "output_type": "execute_result"
    }
   ],
   "source": [
    "'''\n",
    "# age 열에 나이 데이터가 없는 모든 행을 삭제 \n",
    "'''\n"
   ]
  },
  {
   "cell_type": "code",
   "execution_count": 76,
   "metadata": {},
   "outputs": [
    {
     "name": "stdout",
     "output_type": "stream",
     "text": [
      "before shape > (891, 14)\n",
      "after shape > (714, 14)\n"
     ]
    }
   ],
   "source": [
    "df3 = df2.dropna(subset=['age'])\n",
    "print('before shape >', df2.shape)\n",
    "print('after shape >', df3.shape)"
   ]
  },
  {
   "cell_type": "code",
   "execution_count": 77,
   "metadata": {},
   "outputs": [
    {
     "data": {
      "text/plain": [
       "'\\nage 열의 첫 10개 데이터 출력 (5 행에 NaN 값)\\n'"
      ]
     },
     "execution_count": 77,
     "metadata": {},
     "output_type": "execute_result"
    }
   ],
   "source": [
    "# 2단계_누락 데이터 치환\n",
    "'''\n",
    "age 열의 첫 10개 데이터 출력 (5 행에 NaN 값)\n",
    "'''"
   ]
  },
  {
   "cell_type": "code",
   "execution_count": 78,
   "metadata": {},
   "outputs": [
    {
     "data": {
      "text/plain": [
       "0    22.0\n",
       "1    38.0\n",
       "2    26.0\n",
       "3    35.0\n",
       "4    35.0\n",
       "5     NaN\n",
       "6    54.0\n",
       "7     2.0\n",
       "8    27.0\n",
       "9    14.0\n",
       "Name: age, dtype: float64"
      ]
     },
     "execution_count": 78,
     "metadata": {},
     "output_type": "execute_result"
    }
   ],
   "source": [
    "df2['age'].head(10)"
   ]
  },
  {
   "cell_type": "code",
   "execution_count": 79,
   "metadata": {},
   "outputs": [
    {
     "data": {
      "text/plain": [
       "'\\nage 열의 NaN값을 다른 나이 데이터의 평균으로 변경하기\\n+ 중간값으로 변경해보기\\n+ 최빈값으로 변경해보기\\n'"
      ]
     },
     "execution_count": 79,
     "metadata": {},
     "output_type": "execute_result"
    }
   ],
   "source": [
    "'''\n",
    "age 열의 NaN값을 다른 나이 데이터의 평균으로 변경하기\n",
    "+ 중간값으로 변경해보기\n",
    "+ 최빈값으로 변경해보기\n",
    "'''"
   ]
  },
  {
   "cell_type": "code",
   "execution_count": 80,
   "metadata": {},
   "outputs": [
    {
     "name": "stdout",
     "output_type": "stream",
     "text": [
      "mean of age : 29.69911764705882\n",
      "median of age : 28.0\n",
      "most freq of age : 24.0\n",
      "\n",
      "0    22.000000\n",
      "1    38.000000\n",
      "2    26.000000\n",
      "3    35.000000\n",
      "4    35.000000\n",
      "5    29.699118\n",
      "6    54.000000\n",
      "7     2.000000\n",
      "8    27.000000\n",
      "9    14.000000\n",
      "Name: age, dtype: float64\n",
      "\n",
      "0    22.0\n",
      "1    38.0\n",
      "2    26.0\n",
      "3    35.0\n",
      "4    35.0\n",
      "5    28.0\n",
      "6    54.0\n",
      "7     2.0\n",
      "8    27.0\n",
      "9    14.0\n",
      "Name: age, dtype: float64\n",
      "\n",
      "0    22.0\n",
      "1    38.0\n",
      "2    26.0\n",
      "3    35.0\n",
      "4    35.0\n",
      "5    24.0\n",
      "6    54.0\n",
      "7     2.0\n",
      "8    27.0\n",
      "9    14.0\n",
      "Name: age, dtype: float64\n"
     ]
    }
   ],
   "source": [
    "mean_age = df2['age'].mean(axis=0)\n",
    "median_age = df2['age'].median(axis=0)\n",
    "freq_age = df2['age'].value_counts(dropna=True).idxmax()\n",
    "print('mean of age :', mean_age)\n",
    "print('median of age :', median_age)\n",
    "print('most freq of age :', freq_age)\n",
    "print()\n",
    "\n",
    "df2_age_mean = df2['age'].fillna(mean_age)\n",
    "df2_age_median = df2['age'].fillna(median_age)\n",
    "df2_age_freq = df2['age'].fillna(freq_age)\n",
    "\n",
    "print(df2_age_mean.head(10))\n",
    "print()\n",
    "print(df2_age_median.head(10))\n",
    "print()\n",
    "print(df2_age_freq.head(10))\n",
    "\n",
    "df3 = df2.copy()\n",
    "df3['age'] = df2_age_mean"
   ]
  },
  {
   "cell_type": "code",
   "execution_count": 81,
   "metadata": {},
   "outputs": [
    {
     "data": {
      "text/plain": [
       "'\\nCASE 1 \\nembark_town 열의 829행의 NaN 데이터 출력\\n'"
      ]
     },
     "execution_count": 81,
     "metadata": {},
     "output_type": "execute_result"
    }
   ],
   "source": [
    "'''\n",
    "CASE 1 \n",
    "embark_town 열의 829행의 NaN 데이터 출력\n",
    "'''"
   ]
  },
  {
   "cell_type": "code",
   "execution_count": 82,
   "metadata": {},
   "outputs": [
    {
     "data": {
      "text/plain": [
       "nan"
      ]
     },
     "execution_count": 82,
     "metadata": {},
     "output_type": "execute_result"
    }
   ],
   "source": [
    "df3['embark_town'].iloc[829]"
   ]
  },
  {
   "cell_type": "code",
   "execution_count": 83,
   "metadata": {},
   "outputs": [
    {
     "data": {
      "text/plain": [
       "'\\nembark_town 열의 NaN값을 승선도시 중에서 가장 많이 출현한 값으로 치환하기\\n'"
      ]
     },
     "execution_count": 83,
     "metadata": {},
     "output_type": "execute_result"
    }
   ],
   "source": [
    "'''\n",
    "embark_town 열의 NaN값을 승선도시 중에서 가장 많이 출현한 값으로 치환하기\n",
    "'''"
   ]
  },
  {
   "cell_type": "code",
   "execution_count": 84,
   "metadata": {},
   "outputs": [
    {
     "name": "stdout",
     "output_type": "stream",
     "text": [
      "most freq of town : Southampton\n",
      "Done!\n",
      "Southampton\n"
     ]
    }
   ],
   "source": [
    "df_tmp = df3['embark_town']\n",
    "freq_town = df_tmp.value_counts(dropna=True).idxmax()\n",
    "\n",
    "print('most freq of town :', freq_town)\n",
    "\n",
    "df_tmp.fillna(freq_town, inplace=True)\n",
    "\n",
    "df4 = df3.copy()\n",
    "df4['embark_twon'] = df_tmp\n",
    "\n",
    "print('Done!')"
   ]
  },
  {
   "cell_type": "code",
   "execution_count": 85,
   "metadata": {},
   "outputs": [
    {
     "data": {
      "text/plain": [
       "'\\nembark_town 열 829행의 NaN 데이터 출력 (NaN 값이 most_freq 값으로 대체)\\n'"
      ]
     },
     "execution_count": 85,
     "metadata": {},
     "output_type": "execute_result"
    }
   ],
   "source": [
    "'''\n",
    "embark_town 열 829행의 NaN 데이터 출력 (NaN 값이 most_freq 값으로 대체)\n",
    "'''"
   ]
  },
  {
   "cell_type": "code",
   "execution_count": 93,
   "metadata": {},
   "outputs": [
    {
     "name": "stdout",
     "output_type": "stream",
     "text": [
      "Southampton\n"
     ]
    }
   ],
   "source": [
    "print(df4['embark_town'].iloc[829])"
   ]
  },
  {
   "cell_type": "code",
   "execution_count": 86,
   "metadata": {},
   "outputs": [
    {
     "data": {
      "text/plain": [
       "'\\nCASE 2\\nembark_town 열의 NaN값을 바로 앞에 있는 828행의 값으로 변경하기\\n'"
      ]
     },
     "execution_count": 86,
     "metadata": {},
     "output_type": "execute_result"
    }
   ],
   "source": [
    "'''\n",
    "CASE 2\n",
    "embark_town 열의 NaN값을 바로 앞에 있는 828행의 값으로 변경하기\n",
    "'''"
   ]
  },
  {
   "cell_type": "code",
   "execution_count": null,
   "metadata": {},
   "outputs": [],
   "source": []
  },
  {
   "cell_type": "code",
   "execution_count": 87,
   "metadata": {},
   "outputs": [
    {
     "data": {
      "text/plain": [
       "'\\nage 열의 첫 10개 데이터 출력 (5 행에 NaN 값이 평균으로 대체)\\n\\n'"
      ]
     },
     "execution_count": 87,
     "metadata": {},
     "output_type": "execute_result"
    }
   ],
   "source": [
    "'''\n",
    "age 열의 첫 10개 데이터 출력 (5 행에 NaN 값이 평균으로 대체)\n",
    "\n",
    "'''"
   ]
  },
  {
   "cell_type": "code",
   "execution_count": null,
   "metadata": {},
   "outputs": [],
   "source": []
  },
  {
   "cell_type": "markdown",
   "metadata": {},
   "source": [
    "## 실습"
   ]
  },
  {
   "cell_type": "code",
   "execution_count": 88,
   "metadata": {},
   "outputs": [],
   "source": [
    "# 라이브러리 불러오기\n",
    "import pandas as pd\n",
    "\n",
    "# 중복 데이터를 갖는 데이터프레임 만들기\n",
    "df = pd.DataFrame({'c1':['a', 'a', 'b', 'a', 'b'],\n",
    "                  'c2':[1, 1, 1, 2, 2],\n",
    "                  'c3':[1, 1, 2, 2, 2]})"
   ]
  },
  {
   "cell_type": "code",
   "execution_count": 95,
   "metadata": {},
   "outputs": [
    {
     "name": "stdout",
     "output_type": "stream",
     "text": [
      "  c1  c2  c3\n",
      "0  a   1   1\n",
      "1  a   1   1\n",
      "2  b   1   2\n",
      "3  a   2   2\n",
      "4  b   2   2\n",
      "\n",
      "0    False\n",
      "1     True\n",
      "2    False\n",
      "3    False\n",
      "4    False\n",
      "dtype: bool\n"
     ]
    }
   ],
   "source": [
    "'''\n",
    "데이터프레임 전체 행 데이터 중에서 중복값 찾기\n",
    "'''\n",
    "\n",
    "print(df)\n",
    "print()\n",
    "print(df.duplicated())"
   ]
  },
  {
   "cell_type": "code",
   "execution_count": 100,
   "metadata": {},
   "outputs": [
    {
     "name": "stdout",
     "output_type": "stream",
     "text": [
      "0    a\n",
      "1    a\n",
      "2    b\n",
      "3    a\n",
      "4    b\n",
      "Name: c1, dtype: object\n",
      "\n",
      "0    False\n",
      "1     True\n",
      "2    False\n",
      "3     True\n",
      "4     True\n",
      "Name: c1, dtype: bool\n",
      "\n",
      "0    False\n",
      "1     True\n",
      "2    False\n",
      "3     True\n",
      "4     True\n",
      "dtype: bool\n"
     ]
    }
   ],
   "source": [
    "'''\n",
    "데이터프레임의 특정 열 데이터에서 중복값 찾기\n",
    "'''\n",
    "\n",
    "print(df['c1'])\n",
    "print()\n",
    "print(df['c1'].duplicated())\n",
    "\n",
    "print()\n",
    "print(df.duplicated(subset=['c1']))"
   ]
  },
  {
   "cell_type": "code",
   "execution_count": 98,
   "metadata": {},
   "outputs": [
    {
     "name": "stdout",
     "output_type": "stream",
     "text": [
      "  c1  c2  c3\n",
      "0  a   1   1\n",
      "2  b   1   2\n",
      "3  a   2   2\n",
      "4  b   2   2\n"
     ]
    }
   ],
   "source": [
    "'''\n",
    "데이터프레임에서 중복 행을 제거\n",
    "'''\n",
    "\n",
    "df_dup = df.duplicated()\n",
    "df_new = df[df_dup == False]\n",
    "print(df_new)"
   ]
  },
  {
   "cell_type": "code",
   "execution_count": 102,
   "metadata": {},
   "outputs": [
    {
     "name": "stdout",
     "output_type": "stream",
     "text": [
      "  c1  c2  c3\n",
      "0  a   1   1\n",
      "1  a   1   1\n",
      "2  b   1   2\n",
      "3  a   2   2\n",
      "4  b   2   2\n",
      "\n",
      "  c1  c2  c3\n",
      "0  a   1   1\n",
      "2  b   1   2\n",
      "3  a   2   2\n"
     ]
    }
   ],
   "source": [
    "'''\n",
    "c2, c3열을 기준으로 중복 행을 제거\n",
    "'''\n",
    "\n",
    "df_dup2 = df.duplicated(subset=['c2','c3'])\n",
    "df_new2 = df[df_dup2 == False]\n",
    "\n",
    "print(df)\n",
    "print()\n",
    "print(df_new2)\n"
   ]
  },
  {
   "cell_type": "code",
   "execution_count": null,
   "metadata": {},
   "outputs": [],
   "source": []
  }
 ],
 "metadata": {
  "kernelspec": {
   "display_name": "Python 3",
   "language": "python",
   "name": "python3"
  },
  "language_info": {
   "codemirror_mode": {
    "name": "ipython",
    "version": 3
   },
   "file_extension": ".py",
   "mimetype": "text/x-python",
   "name": "python",
   "nbconvert_exporter": "python",
   "pygments_lexer": "ipython3",
   "version": "3.8.8"
  },
  "toc": {
   "base_numbering": 1,
   "nav_menu": {},
   "number_sections": true,
   "sideBar": true,
   "skip_h1_title": false,
   "title_cell": "Table of Contents",
   "title_sidebar": "Contents",
   "toc_cell": false,
   "toc_position": {},
   "toc_section_display": true,
   "toc_window_display": false
  }
 },
 "nbformat": 4,
 "nbformat_minor": 4
}
