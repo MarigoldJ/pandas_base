{
 "cells": [
  {
   "cell_type": "markdown",
   "metadata": {},
   "source": [
    "## 데이터프레임(DataFrame)\n",
    "> 판다스를 사용하는 목적은 서로 다른 여러 가지 유형의 데이터를 **공통의 포맷**으로 정리하는 것으로, 여러 유형의 데이터를 공통의 포맷으로 만들기 위해, **시리즈**(1차원벡터)와 **데이터프레임**(2차원벡터, 행렬)이라는 구조화된 데이터 형식을 제공한다.\n",
    "- 판다스의 1차적인 목적은 서로 다른 여러 가지 유형의 데이터를 공통의 포맷으로 정리하는 것\n",
    "- 행과 열로 이루어진 2차원 구조의 데이터프레임은 데이터 분석 실무에서 자주 사용\n",
    "- 2차원 배열구조는 엑셀이나 관계형 데이터베이스 등 다양한 분야에서 사용되므로 변환이 유용하다\n",
    "- 여러 개의 시리즈들이 모여서 구성되고 데이터의 열은 시리즈 객체이다. 시리즈들이 모여 행렬(matrix)가 된다고 할 수 있다\n",
    "- 행과 열은 다양하게 불리어 진다. `행 - row, 레코드(record), 관측값(observation)`, `열 - column, 공통의 속성을 갖는 일련의 데이터, 속성, 범주, 변수(variable)`을 참고하자. \n",
    "\n",
    "'''\n",
    "쉽게 말하면 우리는 데이터정리를 위해 엑셀(Microsoft Excel)에 작성하는 것과 같이, python의 판다스로 자료정리를 하고 있다고 보면된다. 파이썬의 리스트나 딕셔너리로 된 것을 엑셀과 같이 표 형식으로 만드는 것이 **데이터프레임**으로 변환하는 것이다.\n",
    "'''"
   ]
  },
  {
   "cell_type": "markdown",
   "metadata": {},
   "source": [
    "**데이터프레임도 CRUD로 이해하자**"
   ]
  },
  {
   "cell_type": "markdown",
   "metadata": {},
   "source": [
    "### CREATE\n",
    "**주의** : 시리즈를 변경할 반드시 비교해서 암기한다.\n",
    "- 딕셔너리 -> 데이터프레임\n",
    "- 리스트 -> 데이터프레임"
   ]
  },
  {
   "cell_type": "markdown",
   "metadata": {},
   "source": [
    "#### 딕셔너리 -> 데이터프레임\n",
    "> 시리즈에서는 키값이 인덱스로 넘어갔지만, 여기서는 열이름으로 넘어가고 자동으로 행 인덱스에 숫자가 붙는다."
   ]
  },
  {
   "cell_type": "code",
   "execution_count": 3,
   "metadata": {},
   "outputs": [
    {
     "name": "stdout",
     "output_type": "stream",
     "text": [
      "<class 'pandas.core.frame.DataFrame'>\n",
      "\n",
      "   c0  c1  c2  c3  c4\n",
      "0   1   4   7  10  13\n",
      "1   2   5   8  11  14\n",
      "2   3   6   9  12  15\n"
     ]
    }
   ],
   "source": [
    "import pandas as pd\n",
    "'''\n",
    "다음 딕셔너리를 데이터프레임으로 변경하자\n",
    "dict_data = {'c0':[1,2,3], 'c1':[4,5,6], 'c2':[7,8,9], 'c3':[10,11,12], 'c4':[13,14,15]}\n",
    "'''\n",
    "\n",
    "\n",
    "\n"
   ]
  },
  {
   "cell_type": "code",
   "execution_count": 5,
   "metadata": {},
   "outputs": [
    {
     "name": "stdout",
     "output_type": "stream",
     "text": [
      "<class 'pandas.core.frame.DataFrame'>\n",
      "\n",
      "    c0  c1  c2  c3  c4\n",
      "하나   1   4   7  10  13\n",
      "둘    2   5   8  11  14\n",
      "셋    3   6   9  12  15\n"
     ]
    }
   ],
   "source": [
    "'''\n",
    "위의 데이터프레임을 아래의 결과값이 나오도록 변경한다.\n",
    "\n",
    "     c0  c1  c2  c3  c4\n",
    "하나  1   4   7  10  13\n",
    "둘    2   5   8  11  14\n",
    "셋    3   6   9  12  15\n",
    "'''\n",
    "\n",
    "\n"
   ]
  },
  {
   "cell_type": "markdown",
   "metadata": {},
   "source": [
    "#### 리스트 -> 데이터프레임\n",
    "> 여기서 가장 주의점은 딕셔너리는 열로 붙여졌지만, 리스트는 행으로 변환된다는 것을 인지하자."
   ]
  },
  {
   "cell_type": "code",
   "execution_count": 2,
   "metadata": {
    "scrolled": true
   },
   "outputs": [
    {
     "name": "stdout",
     "output_type": "stream",
     "text": [
      "    나이 성별   학교\n",
      "진현  18  남  김천고\n",
      "민지  19  여  울산고\n",
      "Index(['진현', '민지'], dtype='object')\n",
      "Index(['나이', '성별', '학교'], dtype='object')\n"
     ]
    }
   ],
   "source": [
    "'''\n",
    "pandas.DataFrame(2차원 배열, index=행 인덱스 배열, columns=열 이름 배열)\n",
    "\n",
    "아래의 결과 값이 나오도록 만들자\n",
    "1.\n",
    "    나이 성별   학교\n",
    "진현  18  남  김천고\n",
    "민지  19  여  울산고\n",
    "\n",
    "2.\n",
    "Index(['진현', '민지'], dtype='object')\n",
    "\n",
    "3.\n",
    "Index(['나이', '성별', '학교'], dtype='object')\n",
    "\n",
    "\n",
    "'''\n",
    "\n",
    "\n"
   ]
  },
  {
   "cell_type": "markdown",
   "metadata": {},
   "source": [
    "#### 열/행 추가\n",
    "- 열 추가는 간단히 딕셔너리와 비슷하게 추가를 해주면 된다.\n",
    "- 행 추가는 loc를 이용해서 추가해 준다. 이 때 값 하나만 넣어도 전체 부분이 다 채워진다."
   ]
  },
  {
   "cell_type": "code",
   "execution_count": 64,
   "metadata": {},
   "outputs": [
    {
     "name": "stdout",
     "output_type": "stream",
     "text": [
      "     수학  영어  생물\n",
      "진현  100  50  50\n",
      "민지   40  70  90\n",
      "성철   70  90  70\n",
      "    수학  영어   생물\n",
      "진현  11  22  333\n",
      "민지  40  70   90\n",
      "성철  70  90   70\n"
     ]
    }
   ],
   "source": [
    "'''\n",
    "아래의 예를 참고하여 자유롭게 열 추가를 해보자\n",
    "'''\n",
    "\n",
    "import pandas as pd\n",
    "exam_data = {'수학':[100, 40, 70], '영어': [50, 70, 90], '생물': [50, 90, 70]}\n",
    "df = pd.DataFrame(exam_data, index=['진현', '민지', '성철'])\n",
    "print(df)\n",
    "\n",
    "df.loc['진현', :] = [11, 22, 333]\n",
    "print(df)\n",
    "\n"
   ]
  },
  {
   "cell_type": "code",
   "execution_count": 66,
   "metadata": {},
   "outputs": [
    {
     "data": {
      "text/html": [
       "<div>\n",
       "<style scoped>\n",
       "    .dataframe tbody tr th:only-of-type {\n",
       "        vertical-align: middle;\n",
       "    }\n",
       "\n",
       "    .dataframe tbody tr th {\n",
       "        vertical-align: top;\n",
       "    }\n",
       "\n",
       "    .dataframe thead th {\n",
       "        text-align: right;\n",
       "    }\n",
       "</style>\n",
       "<table border=\"1\" class=\"dataframe\">\n",
       "  <thead>\n",
       "    <tr style=\"text-align: right;\">\n",
       "      <th></th>\n",
       "      <th>이름</th>\n",
       "      <th>수학</th>\n",
       "      <th>영어</th>\n",
       "      <th>생물</th>\n",
       "      <th>도덕</th>\n",
       "    </tr>\n",
       "  </thead>\n",
       "  <tbody>\n",
       "    <tr>\n",
       "      <th>0</th>\n",
       "      <td>진현</td>\n",
       "      <td>100</td>\n",
       "      <td>50</td>\n",
       "      <td>50</td>\n",
       "      <td>88</td>\n",
       "    </tr>\n",
       "    <tr>\n",
       "      <th>1</th>\n",
       "      <td>민지</td>\n",
       "      <td>40</td>\n",
       "      <td>70</td>\n",
       "      <td>90</td>\n",
       "      <td>68</td>\n",
       "    </tr>\n",
       "    <tr>\n",
       "      <th>2</th>\n",
       "      <td>성철</td>\n",
       "      <td>70</td>\n",
       "      <td>90</td>\n",
       "      <td>70</td>\n",
       "      <td>58</td>\n",
       "    </tr>\n",
       "    <tr>\n",
       "      <th>3</th>\n",
       "      <td>지산</td>\n",
       "      <td>30</td>\n",
       "      <td>80</td>\n",
       "      <td>18</td>\n",
       "      <td>77</td>\n",
       "    </tr>\n",
       "  </tbody>\n",
       "</table>\n",
       "</div>"
      ],
      "text/plain": [
       "   이름   수학  영어  생물  도덕\n",
       "0  진현  100  50  50  88\n",
       "1  민지   40  70  90  68\n",
       "2  성철   70  90  70  58\n",
       "3  지산   30  80  18  77"
      ]
     },
     "execution_count": 66,
     "metadata": {},
     "output_type": "execute_result"
    }
   ],
   "source": [
    "'''\n",
    "아래의 예를 참고하여 자유롭게 열/행 추가를 실습해 보자.\n",
    "'''\n",
    "### 열추가\n",
    "import pandas as pd\n",
    "import numpy as np\n",
    "exam_data = {'이름': ['진현', '민지', '성철', '지산'], '수학':[100, 40, 70, 30], '영어': [50, 70, 90, 80], '생물': [50, 90, 70, 18], '도덕': [88, 68, 58, 77]}\n",
    "df = pd.DataFrame(exam_data)\n",
    "df"
   ]
  },
  {
   "cell_type": "code",
   "execution_count": 67,
   "metadata": {},
   "outputs": [
    {
     "data": {
      "text/html": [
       "<div>\n",
       "<style scoped>\n",
       "    .dataframe tbody tr th:only-of-type {\n",
       "        vertical-align: middle;\n",
       "    }\n",
       "\n",
       "    .dataframe tbody tr th {\n",
       "        vertical-align: top;\n",
       "    }\n",
       "\n",
       "    .dataframe thead th {\n",
       "        text-align: right;\n",
       "    }\n",
       "</style>\n",
       "<table border=\"1\" class=\"dataframe\">\n",
       "  <thead>\n",
       "    <tr style=\"text-align: right;\">\n",
       "      <th></th>\n",
       "      <th>이름</th>\n",
       "      <th>수학</th>\n",
       "      <th>영어</th>\n",
       "      <th>생물</th>\n",
       "      <th>도덕</th>\n",
       "      <th>국어</th>\n",
       "    </tr>\n",
       "  </thead>\n",
       "  <tbody>\n",
       "    <tr>\n",
       "      <th>0</th>\n",
       "      <td>진현</td>\n",
       "      <td>100</td>\n",
       "      <td>50</td>\n",
       "      <td>50</td>\n",
       "      <td>88</td>\n",
       "      <td>80</td>\n",
       "    </tr>\n",
       "    <tr>\n",
       "      <th>1</th>\n",
       "      <td>민지</td>\n",
       "      <td>40</td>\n",
       "      <td>70</td>\n",
       "      <td>90</td>\n",
       "      <td>68</td>\n",
       "      <td>80</td>\n",
       "    </tr>\n",
       "    <tr>\n",
       "      <th>2</th>\n",
       "      <td>성철</td>\n",
       "      <td>70</td>\n",
       "      <td>90</td>\n",
       "      <td>70</td>\n",
       "      <td>58</td>\n",
       "      <td>80</td>\n",
       "    </tr>\n",
       "    <tr>\n",
       "      <th>3</th>\n",
       "      <td>지산</td>\n",
       "      <td>30</td>\n",
       "      <td>80</td>\n",
       "      <td>18</td>\n",
       "      <td>77</td>\n",
       "      <td>80</td>\n",
       "    </tr>\n",
       "  </tbody>\n",
       "</table>\n",
       "</div>"
      ],
      "text/plain": [
       "   이름   수학  영어  생물  도덕  국어\n",
       "0  진현  100  50  50  88  80\n",
       "1  민지   40  70  90  68  80\n",
       "2  성철   70  90  70  58  80\n",
       "3  지산   30  80  18  77  80"
      ]
     },
     "execution_count": 67,
     "metadata": {},
     "output_type": "execute_result"
    }
   ],
   "source": [
    "df['국어'] = 80\n",
    "df"
   ]
  },
  {
   "cell_type": "code",
   "execution_count": 68,
   "metadata": {},
   "outputs": [
    {
     "data": {
      "text/html": [
       "<div>\n",
       "<style scoped>\n",
       "    .dataframe tbody tr th:only-of-type {\n",
       "        vertical-align: middle;\n",
       "    }\n",
       "\n",
       "    .dataframe tbody tr th {\n",
       "        vertical-align: top;\n",
       "    }\n",
       "\n",
       "    .dataframe thead th {\n",
       "        text-align: right;\n",
       "    }\n",
       "</style>\n",
       "<table border=\"1\" class=\"dataframe\">\n",
       "  <thead>\n",
       "    <tr style=\"text-align: right;\">\n",
       "      <th></th>\n",
       "      <th>이름</th>\n",
       "      <th>수학</th>\n",
       "      <th>영어</th>\n",
       "      <th>생물</th>\n",
       "      <th>도덕</th>\n",
       "      <th>국어</th>\n",
       "      <th>국사</th>\n",
       "    </tr>\n",
       "  </thead>\n",
       "  <tbody>\n",
       "    <tr>\n",
       "      <th>0</th>\n",
       "      <td>진현</td>\n",
       "      <td>100</td>\n",
       "      <td>50</td>\n",
       "      <td>50</td>\n",
       "      <td>88</td>\n",
       "      <td>80</td>\n",
       "      <td>10</td>\n",
       "    </tr>\n",
       "    <tr>\n",
       "      <th>1</th>\n",
       "      <td>민지</td>\n",
       "      <td>40</td>\n",
       "      <td>70</td>\n",
       "      <td>90</td>\n",
       "      <td>68</td>\n",
       "      <td>80</td>\n",
       "      <td>20</td>\n",
       "    </tr>\n",
       "    <tr>\n",
       "      <th>2</th>\n",
       "      <td>성철</td>\n",
       "      <td>70</td>\n",
       "      <td>90</td>\n",
       "      <td>70</td>\n",
       "      <td>58</td>\n",
       "      <td>80</td>\n",
       "      <td>30</td>\n",
       "    </tr>\n",
       "    <tr>\n",
       "      <th>3</th>\n",
       "      <td>지산</td>\n",
       "      <td>30</td>\n",
       "      <td>80</td>\n",
       "      <td>18</td>\n",
       "      <td>77</td>\n",
       "      <td>80</td>\n",
       "      <td>40</td>\n",
       "    </tr>\n",
       "  </tbody>\n",
       "</table>\n",
       "</div>"
      ],
      "text/plain": [
       "   이름   수학  영어  생물  도덕  국어  국사\n",
       "0  진현  100  50  50  88  80  10\n",
       "1  민지   40  70  90  68  80  20\n",
       "2  성철   70  90  70  58  80  30\n",
       "3  지산   30  80  18  77  80  40"
      ]
     },
     "execution_count": 68,
     "metadata": {},
     "output_type": "execute_result"
    }
   ],
   "source": [
    "df['국사'] = [10, 20, 30, 40]\n",
    "df"
   ]
  },
  {
   "cell_type": "code",
   "execution_count": 69,
   "metadata": {},
   "outputs": [
    {
     "data": {
      "text/html": [
       "<div>\n",
       "<style scoped>\n",
       "    .dataframe tbody tr th:only-of-type {\n",
       "        vertical-align: middle;\n",
       "    }\n",
       "\n",
       "    .dataframe tbody tr th {\n",
       "        vertical-align: top;\n",
       "    }\n",
       "\n",
       "    .dataframe thead th {\n",
       "        text-align: right;\n",
       "    }\n",
       "</style>\n",
       "<table border=\"1\" class=\"dataframe\">\n",
       "  <thead>\n",
       "    <tr style=\"text-align: right;\">\n",
       "      <th></th>\n",
       "      <th>이름</th>\n",
       "      <th>수학</th>\n",
       "      <th>영어</th>\n",
       "      <th>생물</th>\n",
       "      <th>도덕</th>\n",
       "      <th>국어</th>\n",
       "      <th>국사</th>\n",
       "      <th>AI</th>\n",
       "    </tr>\n",
       "  </thead>\n",
       "  <tbody>\n",
       "    <tr>\n",
       "      <th>0</th>\n",
       "      <td>진현</td>\n",
       "      <td>100</td>\n",
       "      <td>50</td>\n",
       "      <td>50</td>\n",
       "      <td>88</td>\n",
       "      <td>80</td>\n",
       "      <td>10</td>\n",
       "      <td>10</td>\n",
       "    </tr>\n",
       "    <tr>\n",
       "      <th>1</th>\n",
       "      <td>민지</td>\n",
       "      <td>40</td>\n",
       "      <td>70</td>\n",
       "      <td>90</td>\n",
       "      <td>68</td>\n",
       "      <td>80</td>\n",
       "      <td>20</td>\n",
       "      <td>20</td>\n",
       "    </tr>\n",
       "    <tr>\n",
       "      <th>2</th>\n",
       "      <td>성철</td>\n",
       "      <td>70</td>\n",
       "      <td>90</td>\n",
       "      <td>70</td>\n",
       "      <td>58</td>\n",
       "      <td>80</td>\n",
       "      <td>30</td>\n",
       "      <td>30</td>\n",
       "    </tr>\n",
       "    <tr>\n",
       "      <th>3</th>\n",
       "      <td>지산</td>\n",
       "      <td>30</td>\n",
       "      <td>80</td>\n",
       "      <td>18</td>\n",
       "      <td>77</td>\n",
       "      <td>80</td>\n",
       "      <td>40</td>\n",
       "      <td>40</td>\n",
       "    </tr>\n",
       "  </tbody>\n",
       "</table>\n",
       "</div>"
      ],
      "text/plain": [
       "   이름   수학  영어  생물  도덕  국어  국사  AI\n",
       "0  진현  100  50  50  88  80  10  10\n",
       "1  민지   40  70  90  68  80  20  20\n",
       "2  성철   70  90  70  58  80  30  30\n",
       "3  지산   30  80  18  77  80  40  40"
      ]
     },
     "execution_count": 69,
     "metadata": {},
     "output_type": "execute_result"
    }
   ],
   "source": [
    "df.loc[:,'AI'] = [10, 20, 30, 40]\n",
    "df"
   ]
  },
  {
   "cell_type": "code",
   "execution_count": null,
   "metadata": {},
   "outputs": [],
   "source": []
  },
  {
   "cell_type": "code",
   "execution_count": 27,
   "metadata": {},
   "outputs": [
    {
     "data": {
      "text/html": [
       "<div>\n",
       "<style scoped>\n",
       "    .dataframe tbody tr th:only-of-type {\n",
       "        vertical-align: middle;\n",
       "    }\n",
       "\n",
       "    .dataframe tbody tr th {\n",
       "        vertical-align: top;\n",
       "    }\n",
       "\n",
       "    .dataframe thead th {\n",
       "        text-align: right;\n",
       "    }\n",
       "</style>\n",
       "<table border=\"1\" class=\"dataframe\">\n",
       "  <thead>\n",
       "    <tr style=\"text-align: right;\">\n",
       "      <th></th>\n",
       "      <th>이름</th>\n",
       "      <th>수학</th>\n",
       "      <th>영어</th>\n",
       "      <th>생물</th>\n",
       "      <th>도덕</th>\n",
       "      <th>국어</th>\n",
       "      <th>국사</th>\n",
       "      <th>AI</th>\n",
       "    </tr>\n",
       "  </thead>\n",
       "  <tbody>\n",
       "    <tr>\n",
       "      <th>0</th>\n",
       "      <td>진현</td>\n",
       "      <td>100</td>\n",
       "      <td>50</td>\n",
       "      <td>50</td>\n",
       "      <td>88</td>\n",
       "      <td>80</td>\n",
       "      <td>10</td>\n",
       "      <td>10</td>\n",
       "    </tr>\n",
       "    <tr>\n",
       "      <th>1</th>\n",
       "      <td>하나</td>\n",
       "      <td>1</td>\n",
       "      <td>2</td>\n",
       "      <td>3</td>\n",
       "      <td>4</td>\n",
       "      <td>5</td>\n",
       "      <td>6</td>\n",
       "      <td>7</td>\n",
       "    </tr>\n",
       "    <tr>\n",
       "      <th>2</th>\n",
       "      <td>성철</td>\n",
       "      <td>70</td>\n",
       "      <td>90</td>\n",
       "      <td>70</td>\n",
       "      <td>58</td>\n",
       "      <td>80</td>\n",
       "      <td>30</td>\n",
       "      <td>30</td>\n",
       "    </tr>\n",
       "    <tr>\n",
       "      <th>3</th>\n",
       "      <td>지산</td>\n",
       "      <td>30</td>\n",
       "      <td>80</td>\n",
       "      <td>18</td>\n",
       "      <td>77</td>\n",
       "      <td>80</td>\n",
       "      <td>40</td>\n",
       "      <td>40</td>\n",
       "    </tr>\n",
       "  </tbody>\n",
       "</table>\n",
       "</div>"
      ],
      "text/plain": [
       "   이름   수학  영어  생물  도덕  국어  국사  AI\n",
       "0  진현  100  50  50  88  80  10  10\n",
       "1  하나    1   2   3   4   5   6   7\n",
       "2  성철   70  90  70  58  80  30  30\n",
       "3  지산   30  80  18  77  80  40  40"
      ]
     },
     "execution_count": 27,
     "metadata": {},
     "output_type": "execute_result"
    }
   ],
   "source": [
    "### 행추가\n",
    "df.loc[1] = ['하나', 1, 2, 3, 4, 5, 6, 7]\n",
    "df"
   ]
  },
  {
   "cell_type": "code",
   "execution_count": 52,
   "metadata": {},
   "outputs": [
    {
     "data": {
      "text/html": [
       "<div>\n",
       "<style scoped>\n",
       "    .dataframe tbody tr th:only-of-type {\n",
       "        vertical-align: middle;\n",
       "    }\n",
       "\n",
       "    .dataframe tbody tr th {\n",
       "        vertical-align: top;\n",
       "    }\n",
       "\n",
       "    .dataframe thead th {\n",
       "        text-align: right;\n",
       "    }\n",
       "</style>\n",
       "<table border=\"1\" class=\"dataframe\">\n",
       "  <thead>\n",
       "    <tr style=\"text-align: right;\">\n",
       "      <th></th>\n",
       "      <th>이름</th>\n",
       "      <th>수학</th>\n",
       "      <th>영어</th>\n",
       "      <th>생물</th>\n",
       "      <th>도덕</th>\n",
       "      <th>국어</th>\n",
       "      <th>국사</th>\n",
       "      <th>AI</th>\n",
       "    </tr>\n",
       "  </thead>\n",
       "  <tbody>\n",
       "    <tr>\n",
       "      <th>0</th>\n",
       "      <td>진현</td>\n",
       "      <td>100</td>\n",
       "      <td>50</td>\n",
       "      <td>50</td>\n",
       "      <td>88</td>\n",
       "      <td>80</td>\n",
       "      <td>10</td>\n",
       "      <td>10</td>\n",
       "    </tr>\n",
       "    <tr>\n",
       "      <th>1</th>\n",
       "      <td>하나</td>\n",
       "      <td>1</td>\n",
       "      <td>2</td>\n",
       "      <td>3</td>\n",
       "      <td>4</td>\n",
       "      <td>5</td>\n",
       "      <td>6</td>\n",
       "      <td>7</td>\n",
       "    </tr>\n",
       "    <tr>\n",
       "      <th>2</th>\n",
       "      <td>성철</td>\n",
       "      <td>70</td>\n",
       "      <td>90</td>\n",
       "      <td>70</td>\n",
       "      <td>58</td>\n",
       "      <td>80</td>\n",
       "      <td>30</td>\n",
       "      <td>30</td>\n",
       "    </tr>\n",
       "    <tr>\n",
       "      <th>3</th>\n",
       "      <td>지산</td>\n",
       "      <td>30</td>\n",
       "      <td>80</td>\n",
       "      <td>18</td>\n",
       "      <td>77</td>\n",
       "      <td>80</td>\n",
       "      <td>40</td>\n",
       "      <td>40</td>\n",
       "    </tr>\n",
       "    <tr>\n",
       "      <th>4</th>\n",
       "      <td>100</td>\n",
       "      <td>100</td>\n",
       "      <td>100</td>\n",
       "      <td>100</td>\n",
       "      <td>100</td>\n",
       "      <td>100</td>\n",
       "      <td>100</td>\n",
       "      <td>100</td>\n",
       "    </tr>\n",
       "  </tbody>\n",
       "</table>\n",
       "</div>"
      ],
      "text/plain": [
       "    이름   수학   영어   생물   도덕   국어   국사   AI\n",
       "0   진현  100   50   50   88   80   10   10\n",
       "1   하나    1    2    3    4    5    6    7\n",
       "2   성철   70   90   70   58   80   30   30\n",
       "3   지산   30   80   18   77   80   40   40\n",
       "4  100  100  100  100  100  100  100  100"
      ]
     },
     "execution_count": 52,
     "metadata": {},
     "output_type": "execute_result"
    }
   ],
   "source": [
    "df.loc[4] = 100\n",
    "df"
   ]
  },
  {
   "cell_type": "code",
   "execution_count": 54,
   "metadata": {},
   "outputs": [
    {
     "data": {
      "text/html": [
       "<div>\n",
       "<style scoped>\n",
       "    .dataframe tbody tr th:only-of-type {\n",
       "        vertical-align: middle;\n",
       "    }\n",
       "\n",
       "    .dataframe tbody tr th {\n",
       "        vertical-align: top;\n",
       "    }\n",
       "\n",
       "    .dataframe thead th {\n",
       "        text-align: right;\n",
       "    }\n",
       "</style>\n",
       "<table border=\"1\" class=\"dataframe\">\n",
       "  <thead>\n",
       "    <tr style=\"text-align: right;\">\n",
       "      <th></th>\n",
       "      <th>이름</th>\n",
       "      <th>수학</th>\n",
       "      <th>영어</th>\n",
       "      <th>생물</th>\n",
       "      <th>도덕</th>\n",
       "      <th>국어</th>\n",
       "      <th>국사</th>\n",
       "      <th>AI</th>\n",
       "    </tr>\n",
       "  </thead>\n",
       "  <tbody>\n",
       "    <tr>\n",
       "      <th>0</th>\n",
       "      <td>진현</td>\n",
       "      <td>100.0</td>\n",
       "      <td>50.0</td>\n",
       "      <td>50.0</td>\n",
       "      <td>88.0</td>\n",
       "      <td>80.0</td>\n",
       "      <td>10.0</td>\n",
       "      <td>10.0</td>\n",
       "    </tr>\n",
       "    <tr>\n",
       "      <th>1</th>\n",
       "      <td>하나</td>\n",
       "      <td>1.0</td>\n",
       "      <td>2.0</td>\n",
       "      <td>3.0</td>\n",
       "      <td>4.0</td>\n",
       "      <td>5.0</td>\n",
       "      <td>6.0</td>\n",
       "      <td>7.0</td>\n",
       "    </tr>\n",
       "    <tr>\n",
       "      <th>2</th>\n",
       "      <td>성철</td>\n",
       "      <td>70.0</td>\n",
       "      <td>90.0</td>\n",
       "      <td>70.0</td>\n",
       "      <td>58.0</td>\n",
       "      <td>80.0</td>\n",
       "      <td>30.0</td>\n",
       "      <td>30.0</td>\n",
       "    </tr>\n",
       "    <tr>\n",
       "      <th>3</th>\n",
       "      <td>지산</td>\n",
       "      <td>30.0</td>\n",
       "      <td>80.0</td>\n",
       "      <td>18.0</td>\n",
       "      <td>77.0</td>\n",
       "      <td>80.0</td>\n",
       "      <td>40.0</td>\n",
       "      <td>40.0</td>\n",
       "    </tr>\n",
       "    <tr>\n",
       "      <th>4</th>\n",
       "      <td>100</td>\n",
       "      <td>100.0</td>\n",
       "      <td>100.0</td>\n",
       "      <td>100.0</td>\n",
       "      <td>100.0</td>\n",
       "      <td>100.0</td>\n",
       "      <td>100.0</td>\n",
       "      <td>100.0</td>\n",
       "    </tr>\n",
       "    <tr>\n",
       "      <th>5</th>\n",
       "      <td>200</td>\n",
       "      <td>200.0</td>\n",
       "      <td>200.0</td>\n",
       "      <td>200.0</td>\n",
       "      <td>200.0</td>\n",
       "      <td>200.0</td>\n",
       "      <td>200.0</td>\n",
       "      <td>200.0</td>\n",
       "    </tr>\n",
       "  </tbody>\n",
       "</table>\n",
       "</div>"
      ],
      "text/plain": [
       "    이름     수학     영어     생물     도덕     국어     국사     AI\n",
       "0   진현  100.0   50.0   50.0   88.0   80.0   10.0   10.0\n",
       "1   하나    1.0    2.0    3.0    4.0    5.0    6.0    7.0\n",
       "2   성철   70.0   90.0   70.0   58.0   80.0   30.0   30.0\n",
       "3   지산   30.0   80.0   18.0   77.0   80.0   40.0   40.0\n",
       "4  100  100.0  100.0  100.0  100.0  100.0  100.0  100.0\n",
       "5  200  200.0  200.0  200.0  200.0  200.0  200.0  200.0"
      ]
     },
     "execution_count": 54,
     "metadata": {},
     "output_type": "execute_result"
    }
   ],
   "source": [
    "df.loc[5, :] = 200\n",
    "df"
   ]
  },
  {
   "cell_type": "code",
   "execution_count": null,
   "metadata": {},
   "outputs": [],
   "source": []
  },
  {
   "cell_type": "markdown",
   "metadata": {},
   "source": [
    "### READ"
   ]
  },
  {
   "cell_type": "markdown",
   "metadata": {},
   "source": [
    "#### 행 선택 (loc, iloc)\n",
    "> 행 선택 방법을 우선 확인 후에 열 선택 법을 알아보자.\n",
    "- loc : 인덱스 이름을 기준으로 행을 선택한다.\n",
    "- iloc : 정수형 위치 인덱스를 기준으로 행을 선택한다.\n",
    "- 2개 이상의 행 인덱스를 추출하려면 리스트로 넣어서 뽑으면 된다.\n",
    "- 슬라이스 기법도 사용가능하다.(python과의 차이점을 이해하자)\n",
    "- 슬라이스 사용 시 loc와 iloc **차이점** 중요"
   ]
  },
  {
   "cell_type": "code",
   "execution_count": 7,
   "metadata": {},
   "outputs": [
    {
     "name": "stdout",
     "output_type": "stream",
     "text": [
      "     수학  영어  생물\n",
      "진현  100  50  50\n",
      "민지   40  70  90\n",
      "성철   70  90  70\n"
     ]
    },
    {
     "data": {
      "text/plain": [
       "수학    40\n",
       "영어    70\n",
       "생물    90\n",
       "Name: 민지, dtype: int64"
      ]
     },
     "execution_count": 7,
     "metadata": {},
     "output_type": "execute_result"
    }
   ],
   "source": [
    "'''\n",
    "exam_data = {'수학':[100, 40, 70], '영어': [50, 70, 90], '생물': [50, 90, 70]}\n",
    "\n",
    "1. 위의 딕셔너리를 이용하여 아래의 결과값을 만드시오\n",
    "     수학  영어  생물\n",
    "진현  100  50  50\n",
    "민지   40  70  90\n",
    "성철   70  90  70\n",
    "\n",
    "2. 만든 데이터프레임에서 아래의 시리즈를 뽑으시오 (loc, iloc 각각 사용)\n",
    "수학    40\n",
    "영어    70\n",
    "생물    90\n",
    "Name: 민지, dtype: int64\n",
    "'''\n",
    "\n",
    "\n",
    "\n"
   ]
  },
  {
   "cell_type": "code",
   "execution_count": 9,
   "metadata": {},
   "outputs": [
    {
     "name": "stdout",
     "output_type": "stream",
     "text": [
      "     수학  영어  생물\n",
      "진현  100  50  50\n",
      "민지   40  70  90\n",
      "     수학  영어  생물\n",
      "진현  100  50  50\n"
     ]
    }
   ],
   "source": [
    "'''\n",
    "아래의 print문을 하나씩 실행하보고\n",
    "슬라이싱 시 loc와 iloc의 차이를 서술하시오\n",
    "'''\n",
    "\n",
    "# print(df.loc[:'민지'])\n",
    "# print(df.loc['민지':])\n",
    "# print(df.loc[['진현', '지산']])\n",
    "\n",
    "# print(df.iloc[1:])\n",
    "# print(df.iloc[:1])\n",
    "# print(df.iloc[[2, 1]])\n"
   ]
  },
  {
   "cell_type": "markdown",
   "metadata": {},
   "source": [
    "#### 열 선택\n",
    "> 행과 비교를 위해 우선 loc, iloc를 통해 열을 선택하는 방법을 알아보자.\n",
    "- df.수학\n",
    "- df['수학']\n",
    "- df[['수학']]\n",
    "\n",
    "위의 3가지의 차이점을 이해한다.<br>\n",
    "df.수학과 df['수학']은 같은 결과값으로 **시리즈 객체**를 도출한다.<br>\n",
    "df[['수학']]로 2중 대괄호를 사용하면 시리즈가 아닌 **데이터프레임**을 반환한다."
   ]
  },
  {
   "cell_type": "code",
   "execution_count": 22,
   "metadata": {},
   "outputs": [
    {
     "data": {
      "text/html": [
       "<div>\n",
       "<style scoped>\n",
       "    .dataframe tbody tr th:only-of-type {\n",
       "        vertical-align: middle;\n",
       "    }\n",
       "\n",
       "    .dataframe tbody tr th {\n",
       "        vertical-align: top;\n",
       "    }\n",
       "\n",
       "    .dataframe thead th {\n",
       "        text-align: right;\n",
       "    }\n",
       "</style>\n",
       "<table border=\"1\" class=\"dataframe\">\n",
       "  <thead>\n",
       "    <tr style=\"text-align: right;\">\n",
       "      <th></th>\n",
       "      <th>수학</th>\n",
       "      <th>영어</th>\n",
       "      <th>생물</th>\n",
       "      <th>도덕</th>\n",
       "    </tr>\n",
       "  </thead>\n",
       "  <tbody>\n",
       "    <tr>\n",
       "      <th>진현</th>\n",
       "      <td>100</td>\n",
       "      <td>50</td>\n",
       "      <td>50</td>\n",
       "      <td>88</td>\n",
       "    </tr>\n",
       "    <tr>\n",
       "      <th>민지</th>\n",
       "      <td>40</td>\n",
       "      <td>70</td>\n",
       "      <td>90</td>\n",
       "      <td>68</td>\n",
       "    </tr>\n",
       "    <tr>\n",
       "      <th>성철</th>\n",
       "      <td>70</td>\n",
       "      <td>90</td>\n",
       "      <td>70</td>\n",
       "      <td>58</td>\n",
       "    </tr>\n",
       "    <tr>\n",
       "      <th>지산</th>\n",
       "      <td>30</td>\n",
       "      <td>80</td>\n",
       "      <td>18</td>\n",
       "      <td>77</td>\n",
       "    </tr>\n",
       "  </tbody>\n",
       "</table>\n",
       "</div>"
      ],
      "text/plain": [
       "     수학  영어  생물  도덕\n",
       "진현  100  50  50  88\n",
       "민지   40  70  90  68\n",
       "성철   70  90  70  58\n",
       "지산   30  80  18  77"
      ]
     },
     "execution_count": 22,
     "metadata": {},
     "output_type": "execute_result"
    }
   ],
   "source": [
    "'''\n",
    "아래의 데이터프레임을 활용하여 문제를 풀어보시오\n",
    "1. df.loc['수학']  가 에러가 발생함을 확인하시오\n",
    "2. df.loc[:, ['수학']]  의 실행값을 생각 후 확인 하시오\n",
    "3. df.iloc[:, 0]  의 실행값을 생각 후 확인 하시오\n",
    "4. df.수학  의 실행값을 생각 후 확인 하시오\n",
    "5. df[\"수학\"]  의 실행값을 생각 후 확인 하시오\n",
    "6. df[[\"수학\"]]  의 실행값을 생각 후 확인 하시오\n",
    "7. for문과 print 문을 활용하여 아래의 결과값 4줄을 만드시오\n",
    "100\n",
    "40\n",
    "70\n",
    "30\n",
    "\n",
    "8. df['수학', '영어'] 가 에러가 발생함을 확인하시오\n",
    "9. df[['수학', '영어']]  의 실행값을 생각 후 확인 하시오\n",
    "10. df.loc[:, ['수학', '영어']]  의 실행값을 생각 후 확인 하시오\n",
    "'''\n",
    "\n",
    "import pandas as pd\n",
    "exam_data = {'수학':[100, 40, 70, 30], '영어': [50, 70, 90, 80], '생물': [50, 90, 70, 18], '도덕': [88, 68, 58, 77]}\n",
    "df = pd.DataFrame(exam_data, index=['진현', '민지', '성철', '지산'])\n",
    "df"
   ]
  },
  {
   "cell_type": "markdown",
   "metadata": {},
   "source": [
    "### UPDATE\n",
    "> 데이터프레임을 수정하는 방법으로는 1. 행과 열이름을 변경하는 방법과 2.데이터프레임의 값들을 변경하는 방법을 둘다 알아야한다."
   ]
  },
  {
   "cell_type": "markdown",
   "metadata": {},
   "source": [
    "#### INDEX NAME, COLUMNS NAME 변경하기\n",
    "**df.index**<BR>\n",
    "**df.columns**"
   ]
  },
  {
   "cell_type": "code",
   "execution_count": 6,
   "metadata": {},
   "outputs": [
    {
     "name": "stdout",
     "output_type": "stream",
     "text": [
      "    나이 성별   학교\n",
      "진현  18  남  김천고\n",
      "민지  19  여  울산고\n"
     ]
    }
   ],
   "source": [
    "import pandas as pd\n",
    "\n",
    "df = pd.DataFrame([[18, '남','김천고'], [19, '여', '울산고']],\n",
    "                 index=['진현', '민지'],\n",
    "                 columns=['나이', '성별', '학교'])\n",
    "\n",
    "print(df)"
   ]
  },
  {
   "cell_type": "code",
   "execution_count": 7,
   "metadata": {},
   "outputs": [
    {
     "name": "stdout",
     "output_type": "stream",
     "text": [
      "     나이 성별   학교\n",
      "학생1  18  남  김천고\n",
      "학생2  19  여  울산고\n"
     ]
    }
   ],
   "source": [
    "'''\n",
    "위의 데이터 프레임의 인덱스 값을 변경하여 아래의 결과값이 나오게 만들자.\n",
    "\n",
    "     나이 성별   학교\n",
    "학생1  18  남  김천고\n",
    "학생2  19  여  울산고\n",
    "'''\n",
    "\n",
    "\n",
    "\n"
   ]
  },
  {
   "cell_type": "code",
   "execution_count": 8,
   "metadata": {},
   "outputs": [
    {
     "name": "stdout",
     "output_type": "stream",
     "text": [
      "     연령 남녀   소속\n",
      "학생1  18  남  김천고\n",
      "학생2  19  여  울산고\n"
     ]
    }
   ],
   "source": [
    "'''\n",
    "위의 데이터 프레임의 인덱스 값을 변경하여 아래의 결과값이 나오게 만들자.\n",
    "\n",
    "     연령 남녀   소속\n",
    "학생1  18  남  김천고\n",
    "학생2  19  여  울산고\n",
    "'''\n",
    "\n",
    "\n",
    "\n"
   ]
  },
  {
   "cell_type": "code",
   "execution_count": 10,
   "metadata": {
    "scrolled": true
   },
   "outputs": [
    {
     "name": "stdout",
     "output_type": "stream",
     "text": [
      "    나이 성별   학교\n",
      "진현  18  남  김천고\n",
      "민지  19  여  울산고\n",
      "\n",
      "\n",
      "     연령 남녀   소속\n",
      "학생1  18  남  김천고\n",
      "학생2  19  여  울산고\n"
     ]
    }
   ],
   "source": [
    "'''\n",
    "rename을 사용하여 아래의 데이터프레임이 아래의 결과 값이 나오게 만들자.\n",
    "\n",
    "     연령 남녀   소속\n",
    "학생1  18  남  김천고\n",
    "학생2  19  여  울산고\n",
    "'''\n",
    "\n",
    "df = pd.DataFrame([[18, '남','김천고'], [19, '여', '울산고']],\n",
    "                 index=['진현', '민지'],\n",
    "                 columns=['나이', '성별', '학교'])\n",
    "\n",
    "print(df)\n"
   ]
  },
  {
   "cell_type": "markdown",
   "metadata": {},
   "source": [
    "inplace=True 를 넣지 않으면, 원본 객체를 직접 수정하는 것이 아니라 새로운 데이터프레임 객체를 반환한다. 따라서 inplace=True를 잊지말고 넣어주자.<br>\n",
    "이 방법은 일부를 선택하여 변경할 수 있다는 장점이 있지만, 가독성이 좋지 않아 잘 쓰지는 않는다. "
   ]
  },
  {
   "cell_type": "code",
   "execution_count": 15,
   "metadata": {},
   "outputs": [
    {
     "data": {
      "text/plain": [
       "Index(['연령', '남녀', '소속'], dtype='object')"
      ]
     },
     "execution_count": 15,
     "metadata": {},
     "output_type": "execute_result"
    }
   ],
   "source": [
    "'''\n",
    "**중요**\n",
    "df.rename은 잘 쓰지 않는다.\n",
    "df.columns로 주로 변경한다.\n",
    "df.index는 사실 변경할 일이 없다. (ex_len(df.index))\n",
    "'''\n",
    "df.columns"
   ]
  },
  {
   "cell_type": "markdown",
   "metadata": {},
   "source": [
    "#### 열을 인덱스로 지정하기\n",
    "##### set_index()\n",
    "> 딕셔너리로 들어온 열중에 그 열을 인덱스로 지정하고 싶을 때가 있다. 그때는 set_index() 메소드를 적용하여 새로운 인덱스로 지정할 수 있다. 그러면 지정된 인덱스에 덮어쓰기가 된다. "
   ]
  },
  {
   "cell_type": "code",
   "execution_count": 39,
   "metadata": {},
   "outputs": [
    {
     "name": "stdout",
     "output_type": "stream",
     "text": [
      "     수학  영어  생물  도덕\n",
      "진현  100  50  50  88\n",
      "민지   40  70  90  68\n",
      "성철   70  90  70  58\n",
      "지산   30  80  18  77\n",
      "\n",
      "\n",
      "     영어  생물  도덕\n",
      "수학             \n",
      "100  50  50  88\n",
      "40   70  90  68\n",
      "70   90  70  58\n",
      "30   80  18  77\n"
     ]
    }
   ],
   "source": [
    "'''\n",
    "set_index()을 사용하여 아래의 데이터프레임이 아래의 결과 값이 나오게 만들자.\n",
    "\n",
    "   영어 생물 도덕\n",
    "수학             \n",
    "100  50  50  88\n",
    "40   70  90  68\n",
    "70   90  70  58\n",
    "30   80  18  77\n",
    "'''\n",
    "\n",
    "import pandas as pd\n",
    "exam_data = {'수학':[100, 40, 70, 30], '영어': [50, 70, 90, 80], '생물': [50, 90, 70, 18], '도덕': [88, 68, 58, 77]}\n",
    "df = pd.DataFrame(exam_data, index=['진현', '민지', '성철', '지산'])\n",
    "\n",
    "\n",
    "\n"
   ]
  },
  {
   "cell_type": "markdown",
   "metadata": {},
   "source": [
    "추가적으로 set_index('수학')과 set_index(['수학'])은 같다라는 것을 참고하자.<br> inplace=True는 원본값을 직접 고쳐준다. index로 리스트로 담아 set_indx(['수학', '생물'])처럼 적용해도 된다.<br> 기초 단계에서는 2개의 인덱스를 적용할 일이 많이 없다는 점을 참고하자."
   ]
  },
  {
   "cell_type": "code",
   "execution_count": null,
   "metadata": {},
   "outputs": [],
   "source": []
  },
  {
   "cell_type": "markdown",
   "metadata": {},
   "source": [
    "##### 데이터 프레임 수정하기\n",
    "> 대부분 아래와 같은 방법으로 데이터를 가져와서 index를 설정하게 된다."
   ]
  },
  {
   "cell_type": "code",
   "execution_count": 44,
   "metadata": {},
   "outputs": [
    {
     "name": "stdout",
     "output_type": "stream",
     "text": [
      "\n"
     ]
    }
   ],
   "source": [
    "#data.loc[행, 열]\n",
    "#data.iloc[행, 열]\n",
    "'''\n",
    "아래의 데이터프레임이 아래의 결과 값이 나오게 만들자.\n",
    "1.\n",
    "    수학 영어 생물 도덕\n",
    "이름                 \n",
    "진현  100  50  50  88\n",
    "민지   40  70  90  68\n",
    "성철   70  90  70  58\n",
    "지산   30  80  18  77\n",
    "\n",
    "2. iloc를 활용하여 아래의 값을 만들자\n",
    "영어    70\n",
    "생물    90\n",
    "Name: 민지, dtype: int64\n",
    "\n",
    "3. loc와 슬라이싱(:)를 활용하여 아래의 값을 만들자\n",
    "영어    70\n",
    "생물    90\n",
    "도덕    68\n",
    "Name: 민지, dtype: int64\n",
    "\n",
    "4. loc를 활용하여 아래의 값을 만들자\n",
    "영어    70\n",
    "생물    90\n",
    "Name: 민지, dtype: int64\n",
    "'''\n",
    "\n",
    "\n",
    "import pandas as pd\n",
    "import numpy as np\n",
    "exam_data = {'이름': ['진현', '민지', '성철', '지산'], '수학':[100, 40, 70, 30], '영어': [50, 70, 90, 80], '생물': [50, 90, 70, 18], '도덕': [88, 68, 58, 77]}\n",
    "df = pd.DataFrame(exam_data)\n",
    "'''\n",
    "   이름 수학 영어 생물 도덕\n",
    "0  진현  100  50  50  88\n",
    "1  민지   40  70  90  68\n",
    "2  성철   70  90  70  58\n",
    "3  지산   30  80  18  77\n",
    "'''\n"
   ]
  },
  {
   "cell_type": "markdown",
   "metadata": {},
   "source": [
    "추가적으로 df.iloc[1, 1]과 df.iloc[1][1]은 같은결과값을 출력한다."
   ]
  },
  {
   "cell_type": "code",
   "execution_count": 42,
   "metadata": {},
   "outputs": [
    {
     "name": "stdout",
     "output_type": "stream",
     "text": [
      "70\n",
      "70\n"
     ]
    }
   ],
   "source": [
    "'''\n",
    "df.iloc[1, 1]\n",
    "df.iloc[1][1]\n",
    "iloc를 활용하여 데이터 값들을 자유롭게 뽑아보자.\n",
    "'''\n"
   ]
  },
  {
   "cell_type": "code",
   "execution_count": null,
   "metadata": {},
   "outputs": [],
   "source": []
  },
  {
   "cell_type": "markdown",
   "metadata": {},
   "source": [
    "#### 전치( transpose() )\n",
    "- 데이터프레임의 행과 열을 서로 맞바꾸는 방법이다. \n",
    "- 선형대수학의 전치행렬과 같은 개념이다. \n",
    "- transpose() 매소드를 활용하거나 df.T와 같은 클래스 속성을 활용할 수도 있다.\n",
    "- 두 번 실행하면 최초의 원본 데이터프레임으로 돌아온다."
   ]
  },
  {
   "cell_type": "code",
   "execution_count": 44,
   "metadata": {},
   "outputs": [
    {
     "name": "stdout",
     "output_type": "stream",
     "text": [
      "   이름   수학  영어  생물\n",
      "0  진현  100  50  50\n",
      "1  민지   40  70  90\n",
      "2  성철   70  90  70\n"
     ]
    }
   ],
   "source": [
    "'''\n",
    "전치를 두번하면 본래의 값으로 돌아옴을 확인하자.\n",
    "'''\n",
    "\n",
    "import pandas as pd\n",
    "import numpy as np\n",
    "exam_data = {'이름': ['진현', '민지', '성철'], \n",
    "             '수학':[100, 40, 70], '영어': [50, 70, 90], '생물': [50, 90, 70]}\n",
    "df = pd.DataFrame(exam_data)\n",
    "print(df)"
   ]
  },
  {
   "cell_type": "code",
   "execution_count": 45,
   "metadata": {},
   "outputs": [
    {
     "name": "stdout",
     "output_type": "stream",
     "text": [
      "      0   1   2\n",
      "이름   진현  민지  성철\n",
      "수학  100  40  70\n",
      "영어   50  70  90\n",
      "생물   50  90  70\n"
     ]
    }
   ],
   "source": [
    "df = df.transpose()\n",
    "print(df)"
   ]
  },
  {
   "cell_type": "code",
   "execution_count": 59,
   "metadata": {},
   "outputs": [
    {
     "data": {
      "text/html": [
       "<div>\n",
       "<style scoped>\n",
       "    .dataframe tbody tr th:only-of-type {\n",
       "        vertical-align: middle;\n",
       "    }\n",
       "\n",
       "    .dataframe tbody tr th {\n",
       "        vertical-align: top;\n",
       "    }\n",
       "\n",
       "    .dataframe thead th {\n",
       "        text-align: right;\n",
       "    }\n",
       "</style>\n",
       "<table border=\"1\" class=\"dataframe\">\n",
       "  <thead>\n",
       "    <tr style=\"text-align: right;\">\n",
       "      <th></th>\n",
       "      <th>이름</th>\n",
       "      <th>수학</th>\n",
       "      <th>영어</th>\n",
       "      <th>생물</th>\n",
       "      <th>도덕</th>\n",
       "    </tr>\n",
       "  </thead>\n",
       "  <tbody>\n",
       "    <tr>\n",
       "      <th>0</th>\n",
       "      <td>진현</td>\n",
       "      <td>100</td>\n",
       "      <td>50</td>\n",
       "      <td>50</td>\n",
       "      <td>88</td>\n",
       "    </tr>\n",
       "    <tr>\n",
       "      <th>1</th>\n",
       "      <td>민지</td>\n",
       "      <td>40</td>\n",
       "      <td>70</td>\n",
       "      <td>90</td>\n",
       "      <td>68</td>\n",
       "    </tr>\n",
       "    <tr>\n",
       "      <th>2</th>\n",
       "      <td>성철</td>\n",
       "      <td>70</td>\n",
       "      <td>90</td>\n",
       "      <td>70</td>\n",
       "      <td>58</td>\n",
       "    </tr>\n",
       "    <tr>\n",
       "      <th>3</th>\n",
       "      <td>지산</td>\n",
       "      <td>30</td>\n",
       "      <td>80</td>\n",
       "      <td>18</td>\n",
       "      <td>77</td>\n",
       "    </tr>\n",
       "  </tbody>\n",
       "</table>\n",
       "</div>"
      ],
      "text/plain": [
       "   이름   수학  영어  생물  도덕\n",
       "0  진현  100  50  50  88\n",
       "1  민지   40  70  90  68\n",
       "2  성철   70  90  70  58\n",
       "3  지산   30  80  18  77"
      ]
     },
     "execution_count": 59,
     "metadata": {},
     "output_type": "execute_result"
    }
   ],
   "source": [
    "df = df.T\n",
    "df"
   ]
  },
  {
   "cell_type": "code",
   "execution_count": null,
   "metadata": {},
   "outputs": [],
   "source": []
  },
  {
   "cell_type": "markdown",
   "metadata": {},
   "source": [
    "#### 행인덱스 수정 ( reindex() )\n",
    "- reindex() : 행인덱스 재배열\n",
    "- fill_value 옵션 : NaN값이 있는 경우 지정값으로 변경한다.\n",
    "- reset_index() : 인덱스 초기화 ()\n",
    "'''\n",
    "df.reset_index()                 : 처음상태로 복귀\n",
    "df.reset_index(drop=True)        : 인덱스 삭제 (미복귀)\n",
    "'''"
   ]
  },
  {
   "cell_type": "code",
   "execution_count": 70,
   "metadata": {},
   "outputs": [
    {
     "name": "stdout",
     "output_type": "stream",
     "text": [
      "    c0  c1  c2  c3  c4\n",
      "r0   1   4   7  10  13\n",
      "r1   2   5   8  11  14\n",
      "r2   3   6   9  12  15\n"
     ]
    }
   ],
   "source": [
    "'''\n",
    "아래의 데이터프레임을 활용하여 문제를 풀자\n",
    "1. reindex를 활용하여 아래의 값을 만들자\n",
    "     c0   c1   c2    c3    c4\n",
    "r0  1.0  4.0  7.0  10.0  13.0\n",
    "r1  2.0  5.0  8.0  11.0  14.0\n",
    "r2  3.0  6.0  9.0  12.0  15.0\n",
    "r3  NaN  NaN  NaN   NaN   NaN\n",
    "r4  NaN  NaN  NaN   NaN   NaN\n",
    "\n",
    "2. fill_value옵션을 활용하여 아래의 값을 만들자\n",
    "    c0  c1  c2  c3  c4\n",
    "r0   1   4   7  10  13\n",
    "r1   2   5   8  11  14\n",
    "r2   3   6   9  12  15\n",
    "r3   0   0   0   0   0\n",
    "r4   0   0   0   0   0\n",
    "\n",
    "3. 아래의 값을 만들자\n",
    "   c0  c1  c2  c3  c4\n",
    "a   1   4   7  10  13\n",
    "b   2   5   8  11  14\n",
    "c   3   6   9  12  15\n",
    "d   0   0   0   0   0\n",
    "e   0   0   0   0   0\n",
    "\n",
    "'''\n",
    "\n",
    "\n",
    "# reindex()\n",
    "import pandas as pd\n",
    "dict_data = {'c0':[1,2,3], 'c1':[4,5,6], 'c2':[7,8,9], 'c3':[10,11,12], 'c4':[13,14,15]}\n",
    "df = pd.DataFrame(dict_data, index=['r0', 'r1', 'r2'])\n",
    "print(df)"
   ]
  },
  {
   "cell_type": "code",
   "execution_count": 50,
   "metadata": {},
   "outputs": [
    {
     "name": "stdout",
     "output_type": "stream",
     "text": [
      "    c0  c1  c2  c3  c4\n",
      "r0   1   4   7  10  13\n",
      "r1   2   5   8  11  14\n",
      "r2   3   6   9  12  15\n"
     ]
    }
   ],
   "source": [
    "'''\n",
    "아래의 데이터프레임을 이용하자.\n",
    "1. reset_index()를 이용해서 아래의 값을 만들자.\n",
    "  index  c0  c1  c2  c3  c4\n",
    "0    r0   1   4   7  10  13\n",
    "1    r1   2   5   8  11  14\n",
    "2    r2   3   6   9  12  15\n",
    "\n",
    "2. reset_index()를 이용해서 아래의 값을 만들자.\n",
    "   c0  c1  c2  c3  c4\n",
    "0   1   4   7  10  13\n",
    "1   2   5   8  11  14\n",
    "2   3   6   9  12  15\n",
    "'''\n",
    "# reset_index()\n",
    "import pandas as pd\n",
    "dict_data = {'c0':[1,2,3], 'c1':[4,5,6], 'c2':[7,8,9], 'c3':[10,11,12], 'c4':[13,14,15]}\n",
    "df = pd.DataFrame(dict_data, index=['r0', 'r1', 'r2'])\n",
    "print(df)"
   ]
  },
  {
   "cell_type": "markdown",
   "metadata": {},
   "source": [
    "### 정렬\n",
    "> Series와 DataFrame의 정렬에 대해 알아보자. 기본적으로 정렬 할 기준이 색인인지, 객체인지에 따라 사용하는 메서드가 다르다.\n",
    "\n",
    "#### 색인 정렬\n",
    "- 로우나 컬럼의 색인인 경우는 **sort_index** 메서드를 사용한다. \n",
    "- 디폴트 값은 오름차순이지만, 내림차순으로 정리하려면 **ascending=False** 옵션을 넣어준다"
   ]
  },
  {
   "cell_type": "code",
   "execution_count": 73,
   "metadata": {
    "scrolled": true
   },
   "outputs": [
    {
     "data": {
      "text/plain": [
       "d    0\n",
       "b    1\n",
       "c    2\n",
       "a    3\n",
       "dtype: int64"
      ]
     },
     "execution_count": 73,
     "metadata": {},
     "output_type": "execute_result"
    }
   ],
   "source": [
    "'''\n",
    "아래의 시리즈를 이용하자.\n",
    "1. sort_index()를 활용하여 아래의 값을 만들자\n",
    "a    3\n",
    "b    1\n",
    "c    2\n",
    "d    0\n",
    "dtype: int64\n",
    "\n",
    "'''\n",
    "# Series의 색인 정렬\n",
    "data = pd.Series(range(4), index=['d', 'b', 'c', 'a'])\n",
    "data"
   ]
  },
  {
   "cell_type": "code",
   "execution_count": 98,
   "metadata": {
    "scrolled": true
   },
   "outputs": [
    {
     "name": "stdout",
     "output_type": "stream",
     "text": [
      "       d  a  b  c\n",
      "three  0  1  2  3\n",
      "one    4  5  6  7\n",
      "\n",
      "       d  a  b  c\n",
      "one    4  5  6  7\n",
      "three  0  1  2  3\n",
      "\n",
      "       a  b  c  d\n",
      "three  1  2  3  0\n",
      "one    5  6  7  4\n"
     ]
    }
   ],
   "source": [
    "'''\n",
    "1. sort_index()를 활용하여 아래의 값을 만들자.\n",
    "       d  a  b  c\n",
    "one    4  5  6  7\n",
    "three  0  1  2  3\n",
    "\n",
    "\n",
    "2. sort_index()를 활용하여 아래의 값을 만들자.\n",
    "       a  b  c  d\n",
    "three  1  2  3  0\n",
    "one    5  6  7  4\n",
    "'''\n",
    "\n",
    "# DataFrame 정렬\n",
    "# axis를 활용하여 기준 축을 설정할 수 있다.\n",
    "frame = pd.DataFrame(np.arange(8).reshape(2, 4), \n",
    "                    index=['three', 'one'],\n",
    "                    columns=['d', 'a', 'b', 'c'])\n",
    "\n",
    "print(frame)"
   ]
  },
  {
   "cell_type": "markdown",
   "metadata": {},
   "source": [
    "#### 데이터(객체 값) 정렬\n",
    "> 객체의 값에 따라 정렬을 하려면 **sort_values** 메서드를 사용한다. 이 때 정렬 시 Series 객체에서 비어있는 값은 기본적으로 마지막에 위치한다."
   ]
  },
  {
   "cell_type": "code",
   "execution_count": 99,
   "metadata": {},
   "outputs": [
    {
     "name": "stdout",
     "output_type": "stream",
     "text": [
      "0    4.0\n",
      "1    9.0\n",
      "2    NaN\n",
      "3    3.0\n",
      "4   -1.0\n",
      "5    NaN\n",
      "dtype: float64\n",
      "\n",
      "4   -1.0\n",
      "3    3.0\n",
      "0    4.0\n",
      "1    9.0\n",
      "2    NaN\n",
      "5    NaN\n",
      "dtype: float64\n"
     ]
    }
   ],
   "source": [
    "'''\n",
    "아래의 시리즈를 활용한다\n",
    "1. sort_values를 활용하여 아래의 값을 만들자\n",
    "4   -1.0\n",
    "3    3.0\n",
    "0    4.0\n",
    "1    9.0\n",
    "2    NaN\n",
    "5    NaN\n",
    "dtype: float64\n",
    "'''\n",
    "\n",
    "# Series의 객체 값에 따른 정렬\n",
    "# NaN은 가장 마지막에 위치한다\n",
    "data = pd.Series([4, 9, np.nan, 3, -1, np.nan])\n",
    "print(data)\n"
   ]
  },
  {
   "cell_type": "code",
   "execution_count": 53,
   "metadata": {},
   "outputs": [
    {
     "name": "stdout",
     "output_type": "stream",
     "text": [
      "   b  a\n",
      "0  4  0\n",
      "1  7  1\n",
      "2 -3  1\n",
      "3  2  0\n",
      "\n",
      "   b  a\n",
      "2 -3  1\n",
      "3  2  0\n",
      "0  4  0\n",
      "1  7  1\n",
      "\n",
      "   b  a\n",
      "1  7  1\n",
      "2 -3  1\n",
      "0  4  0\n",
      "3  2  0\n"
     ]
    }
   ],
   "source": [
    "'''\n",
    "아래의 데이터프레임을 사용한다.\n",
    "1. b를 기준으로 아래의 값을 만들자\n",
    "   b  a\n",
    "2 -3  1\n",
    "3  2  0\n",
    "0  4  0\n",
    "1  7  1\n",
    "\n",
    "2. 아래와 같이 'a'를 정렬한 후에 'b'를 정렬한다.\n",
    "   b  a\n",
    "1  7  1\n",
    "2 -3  1\n",
    "0  4  0\n",
    "3  2  0\n",
    "'''\n",
    "\n",
    "frame = pd.DataFrame({'b': [4, 7, -3, 2], 'a': [0, 1, 1, 0]})\n",
    "print(frame)\n",
    "\n"
   ]
  },
  {
   "cell_type": "code",
   "execution_count": null,
   "metadata": {},
   "outputs": [],
   "source": []
  },
  {
   "cell_type": "markdown",
   "metadata": {},
   "source": [
    "### DELETE\n",
    "##### drop() \n",
    "> 데이터프레임의 행 또는 열을 삭제하는 명령\n",
    "- 행삭제 : axis=0(디폴트)\n",
    "- 열삭제 ; axis=1\n",
    "- 다수의 행과 열 삭제 시 list로 넣어준다.\n",
    "- 원본 객체 변경 시 inplace = True를 추가해 준다."
   ]
  },
  {
   "cell_type": "code",
   "execution_count": 56,
   "metadata": {
    "scrolled": true
   },
   "outputs": [
    {
     "name": "stdout",
     "output_type": "stream",
     "text": [
      "    나이 성별   학교\n",
      "진현  18  남  김천고\n",
      "민지  19  여  울산고\n"
     ]
    }
   ],
   "source": [
    "'''\n",
    "아래의 데이터프레임을 사용한다.\n",
    "1. 아래의 값을 만들자\n",
    "    나이 성별   학교\n",
    "민지  19  여  울산고\n",
    "\n",
    "2. 아래의 값을 만들자\n",
    "    성별\n",
    "민지  여\n",
    "'''\n",
    "\n",
    "import pandas as pd\n",
    "\n",
    "df = pd.DataFrame([[18, '남','김천고'], [19, '여', '울산고']],\n",
    "                 index=['진현', '민지'],\n",
    "                 columns=['나이', '성별', '학교'])\n",
    "print(df)"
   ]
  },
  {
   "cell_type": "code",
   "execution_count": null,
   "metadata": {},
   "outputs": [],
   "source": []
  },
  {
   "cell_type": "code",
   "execution_count": null,
   "metadata": {},
   "outputs": [],
   "source": []
  }
 ],
 "metadata": {
  "kernelspec": {
   "display_name": "Python 3",
   "language": "python",
   "name": "python3"
  },
  "language_info": {
   "codemirror_mode": {
    "name": "ipython",
    "version": 3
   },
   "file_extension": ".py",
   "mimetype": "text/x-python",
   "name": "python",
   "nbconvert_exporter": "python",
   "pygments_lexer": "ipython3",
   "version": "3.8.5"
  },
  "toc": {
   "base_numbering": 1,
   "nav_menu": {},
   "number_sections": true,
   "sideBar": true,
   "skip_h1_title": false,
   "title_cell": "Table of Contents",
   "title_sidebar": "Contents",
   "toc_cell": false,
   "toc_position": {},
   "toc_section_display": true,
   "toc_window_display": false
  }
 },
 "nbformat": 4,
 "nbformat_minor": 4
}
