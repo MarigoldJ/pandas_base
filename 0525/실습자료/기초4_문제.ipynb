{
 "cells": [
  {
   "cell_type": "markdown",
   "metadata": {},
   "source": [
    "## 기초4_문제"
   ]
  },
  {
   "cell_type": "code",
   "execution_count": 1,
   "metadata": {},
   "outputs": [],
   "source": [
    "import pandas as pd\n",
    "import numpy as np"
   ]
  },
  {
   "cell_type": "code",
   "execution_count": 2,
   "metadata": {},
   "outputs": [],
   "source": [
    "'''\n",
    "seaborn의 타이타닉 데이터를 불러오자\n",
    "'''\n",
    "\n",
    "import seaborn as sns\n",
    "df = sns.load_dataset('titanic')\n"
   ]
  },
  {
   "cell_type": "code",
   "execution_count": 3,
   "metadata": {},
   "outputs": [],
   "source": [
    "'''\n",
    "실습을 위에 데이터 소실 만들기\n",
    "변경 없이 실행 시켜주시면 됩니다.\n",
    "'''\n",
    "df.loc[1, 'pclass'] = '?'"
   ]
  },
  {
   "cell_type": "code",
   "execution_count": 3,
   "metadata": {},
   "outputs": [
    {
     "data": {
      "text/plain": [
       "'\\n데이터구조 확인 (기계적으로 확인하자)\\n'"
      ]
     },
     "execution_count": 3,
     "metadata": {},
     "output_type": "execute_result"
    }
   ],
   "source": [
    "'''\n",
    "데이터구조 확인 (기계적으로 확인하자)\n",
    "'''\n"
   ]
  },
  {
   "cell_type": "code",
   "execution_count": 4,
   "metadata": {},
   "outputs": [
    {
     "data": {
      "text/plain": [
       "array([3, '?', 1, 2], dtype=object)"
      ]
     },
     "execution_count": 4,
     "metadata": {},
     "output_type": "execute_result"
    }
   ],
   "source": [
    "'''\n",
    "pclass 열의 자료형 확인 _문자열(object)\n",
    "df['열'].unique() 활용\n",
    "'''\n"
   ]
  },
  {
   "cell_type": "code",
   "execution_count": 5,
   "metadata": {},
   "outputs": [
    {
     "data": {
      "text/plain": [
       "3    491\n",
       "1    215\n",
       "2    184\n",
       "?      1\n",
       "Name: pclass, dtype: int64"
      ]
     },
     "execution_count": 5,
     "metadata": {},
     "output_type": "execute_result"
    }
   ],
   "source": [
    "'''\n",
    "pclass의 목록 확인\n",
    "'''\n"
   ]
  },
  {
   "cell_type": "code",
   "execution_count": 7,
   "metadata": {},
   "outputs": [],
   "source": [
    "'''\n",
    "pclass열의 누락 데이터('?') 삭제 후에 문자열을 정수형으로 변경\n",
    "'''"
   ]
  },
  {
   "cell_type": "code",
   "execution_count": 8,
   "metadata": {},
   "outputs": [
    {
     "name": "stdout",
     "output_type": "stream",
     "text": [
      "int32\n"
     ]
    }
   ],
   "source": [
    "'''\n",
    "pclass 열의 자료형 확인 _int\n",
    "'''\n"
   ]
  },
  {
   "cell_type": "code",
   "execution_count": 9,
   "metadata": {},
   "outputs": [
    {
     "data": {
      "text/plain": [
       "array([3, 1, 2])"
      ]
     },
     "execution_count": 9,
     "metadata": {},
     "output_type": "execute_result"
    }
   ],
   "source": [
    "'''\n",
    "df['열'].unique() 를 활용하여\n",
    "pclass 열의 고유값 확인\n",
    "'''\n"
   ]
  },
  {
   "cell_type": "code",
   "execution_count": 10,
   "metadata": {},
   "outputs": [
    {
     "data": {
      "text/plain": [
       "array(['3등급', '1등급', '2등급'], dtype=object)"
      ]
     },
     "execution_count": 10,
     "metadata": {},
     "output_type": "execute_result"
    }
   ],
   "source": [
    "'''\n",
    "정수형 데이터를 문자형 데이터로 변환 \n",
    "1을 1등급으로 변경\n",
    "2를 2등급으로 변경\n",
    "3을 3등급으로 변경\n",
    "'''\n"
   ]
  },
  {
   "cell_type": "code",
   "execution_count": 11,
   "metadata": {},
   "outputs": [
    {
     "name": "stdout",
     "output_type": "stream",
     "text": [
      "object\n"
     ]
    }
   ],
   "source": [
    "'''\n",
    "pclass 열의 자료형 확인 _object\n",
    "'''\n",
    " "
   ]
  },
  {
   "cell_type": "code",
   "execution_count": 12,
   "metadata": {},
   "outputs": [
    {
     "name": "stdout",
     "output_type": "stream",
     "text": [
      "category\n"
     ]
    }
   ],
   "source": [
    "'''\n",
    "origin 열의 문자열 자료형을 범주형으로 변환\n",
    "'''\n"
   ]
  },
  {
   "cell_type": "code",
   "execution_count": 13,
   "metadata": {},
   "outputs": [
    {
     "name": "stdout",
     "output_type": "stream",
     "text": [
      "object\n"
     ]
    }
   ],
   "source": [
    "'''\n",
    "origin 열의 범주형을 문자열로 다시 변환\n",
    "'''\n"
   ]
  },
  {
   "cell_type": "code",
   "execution_count": 14,
   "metadata": {},
   "outputs": [
    {
     "name": "stdout",
     "output_type": "stream",
     "text": [
      "[870  17   3]\n",
      "\n",
      "[  0.     170.7764 341.5528 512.3292]\n"
     ]
    }
   ],
   "source": [
    "'''\n",
    "fare열을 np.histogram 함수로 3개의 bin으로 나누는 경계 값의 리스트 구하기\n",
    "\n",
    "'''"
   ]
  },
  {
   "cell_type": "code",
   "execution_count": 15,
   "metadata": {},
   "outputs": [],
   "source": [
    "'''\n",
    "위에서 구한 세가지의 그룹을 ['하', '중', '상']로 변경해 보자\n",
    "'''\n"
   ]
  },
  {
   "cell_type": "code",
   "execution_count": 16,
   "metadata": {},
   "outputs": [
    {
     "name": "stdout",
     "output_type": "stream",
     "text": [
      "        fare fare_bin\n",
      "881   7.8958        하\n",
      "882  10.5167        하\n",
      "883  10.5000        하\n",
      "884   7.0500        하\n",
      "885  29.1250        하\n",
      "886  13.0000        하\n",
      "887  30.0000        하\n",
      "888  23.4500        하\n",
      "889  30.0000        하\n",
      "890   7.7500        하\n"
     ]
    }
   ],
   "source": [
    "'''위의 변경값 확인'''\n"
   ]
  },
  {
   "cell_type": "code",
   "execution_count": 17,
   "metadata": {},
   "outputs": [
    {
     "name": "stdout",
     "output_type": "stream",
     "text": [
      "    하  중  상\n",
      "0   1  0  0\n",
      "2   1  0  0\n",
      "3   1  0  0\n",
      "4   1  0  0\n",
      "5   1  0  0\n",
      "6   1  0  0\n",
      "7   1  0  0\n",
      "8   1  0  0\n",
      "9   1  0  0\n",
      "10  1  0  0\n",
      "11  1  0  0\n",
      "12  1  0  0\n",
      "13  1  0  0\n",
      "14  1  0  0\n",
      "15  1  0  0\n"
     ]
    }
   ],
   "source": [
    "'''\n",
    "fare_bin 열의 범주형 데이터를 더미 변수로 변환\n",
    "'''\n"
   ]
  }
 ],
 "metadata": {
  "kernelspec": {
   "display_name": "Python 3",
   "language": "python",
   "name": "python3"
  },
  "language_info": {
   "codemirror_mode": {
    "name": "ipython",
    "version": 3
   },
   "file_extension": ".py",
   "mimetype": "text/x-python",
   "name": "python",
   "nbconvert_exporter": "python",
   "pygments_lexer": "ipython3",
   "version": "3.8.5"
  },
  "toc": {
   "base_numbering": 1,
   "nav_menu": {},
   "number_sections": true,
   "sideBar": true,
   "skip_h1_title": false,
   "title_cell": "Table of Contents",
   "title_sidebar": "Contents",
   "toc_cell": false,
   "toc_position": {},
   "toc_section_display": true,
   "toc_window_display": false
  }
 },
 "nbformat": 4,
 "nbformat_minor": 4
}
