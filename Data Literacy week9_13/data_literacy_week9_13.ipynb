{
 "cells": [
  {
   "cell_type": "markdown",
   "metadata": {},
   "source": [
    "# week 9\n",
    "\n",
    "* 기본적인 변수들"
   ]
  },
  {
   "cell_type": "code",
   "execution_count": 5,
   "metadata": {},
   "outputs": [
    {
     "name": "stdout",
     "output_type": "stream",
     "text": [
      "리스트 내 요소의 총 합 : 20\n",
      "리스트의 요소 개수 : 5\n"
     ]
    }
   ],
   "source": [
    "# list\n",
    "a = list(range(1, 6))  # [1, 2, 3, 4, 5]\n",
    "a.append(6)            # [1, 2, 3, 4, 5, 6]\n",
    "a.remove(1)            # [2, 3, 4, 5, 6]\n",
    "\n",
    "print('리스트 내 요소의 총 합 :', sum(a))\n",
    "print('리스트의 요소 개수 :', len(a))"
   ]
  },
  {
   "cell_type": "markdown",
   "metadata": {},
   "source": [
    "# week 10\n",
    "\n",
    "* 딕셔너리, 집합"
   ]
  },
  {
   "cell_type": "code",
   "execution_count": 8,
   "metadata": {},
   "outputs": [
    {
     "name": "stdout",
     "output_type": "stream",
     "text": [
      "dict_keys(['a', 'b', 'c'])\n",
      "dict_values([10, 20, 30])\n"
     ]
    }
   ],
   "source": [
    "# Dictionary\n",
    "b1 = {'a': 10, 'b': 20, 'c': 30}\n",
    "\n",
    "print(b1.keys())\n",
    "print(b1.values())"
   ]
  },
  {
   "cell_type": "code",
   "execution_count": 9,
   "metadata": {},
   "outputs": [
    {
     "name": "stdout",
     "output_type": "stream",
     "text": [
      "{2, 3}\n",
      "{1, 2, 3, 4}\n"
     ]
    }
   ],
   "source": [
    "# Set\n",
    "b2 = {1, 2, 3}\n",
    "b3 = {2, 3, 4}\n",
    "\n",
    "b3.add(5)            # b3 = {2, 3, 4, 5}\n",
    "b3.remove(5)         # b3 = {2, 3, 4}\n",
    "\n",
    "print(b2 & b3)\n",
    "print(b2 | b3)"
   ]
  },
  {
   "cell_type": "markdown",
   "metadata": {},
   "source": [
    "# week 11\n",
    "\n",
    "* numpy에 관한 내용\n",
    "    * numpy array는 요소끼리의 사칙연산이 용이함.\n",
    "    * list는 요소끼리의 연산을 하려면 for문으로 요소를 꺼내서 연산해야하므로 귀찮음."
   ]
  },
  {
   "cell_type": "code",
   "execution_count": 11,
   "metadata": {},
   "outputs": [],
   "source": [
    "import numpy as np"
   ]
  },
  {
   "cell_type": "code",
   "execution_count": 15,
   "metadata": {},
   "outputs": [
    {
     "name": "stdout",
     "output_type": "stream",
     "text": [
      "[ 20  40  60  80 100]\n",
      "[0 0 0 0 0]\n",
      "[ 100  400  900 1600 2500]\n",
      "[1. 1. 1. 1. 1.]\n",
      "\n",
      "150\n",
      "30.0\n",
      "50\n",
      "10\n",
      "\n",
      "[10. 20. 30. 40. 50.]\n",
      "[10.1 20.1 30.1 40.1 50.1]\n"
     ]
    }
   ],
   "source": [
    "# numpy array\n",
    "c = np.array([10, 20, 30, 40, 50])\n",
    "\n",
    "# operate\n",
    "print(c + c)\n",
    "print(c - c)\n",
    "print(c * c)\n",
    "print(c / c)\n",
    "print()\n",
    "\n",
    "# method\n",
    "print(np.sum(c))\n",
    "print(np.mean(c))\n",
    "print(np.max(c))\n",
    "print(np.min(c))\n",
    "print()\n",
    "print(np.round(c+0.1))      # default = 0 (소수점 X)\n",
    "print(np.round(c+0.1, 1))   # 소수점 1번째 자리까지 반올림"
   ]
  },
  {
   "cell_type": "code",
   "execution_count": 17,
   "metadata": {},
   "outputs": [
    {
     "name": "stdout",
     "output_type": "stream",
     "text": [
      "[0 1 2 3 4 5]\n",
      "[0. 0. 0. 0. 0. 0.]\n",
      "[1. 1. 1. 1. 1. 1.]\n"
     ]
    }
   ],
   "source": [
    "# array 생성\n",
    "c1 = np.arange(6)\n",
    "c2 = np.zeros(6)\n",
    "c3 = np.ones(6)\n",
    "\n",
    "print(c1)\n",
    "print(c2)\n",
    "print(c3)"
   ]
  },
  {
   "cell_type": "code",
   "execution_count": 19,
   "metadata": {},
   "outputs": [
    {
     "name": "stdout",
     "output_type": "stream",
     "text": [
      "[[0 1 2]\n",
      " [3 4 5]]\n",
      "2\n"
     ]
    }
   ],
   "source": [
    "# 2차원 배열\n",
    "print(c1.reshape(2, 3))\n",
    "print(c1.reshape(2, 3)[0, 2])\n"
   ]
  },
  {
   "cell_type": "markdown",
   "metadata": {},
   "source": [
    "# week 12\n",
    "\n",
    "* pandas에 관한 내용"
   ]
  },
  {
   "cell_type": "code",
   "execution_count": 20,
   "metadata": {},
   "outputs": [],
   "source": [
    "import pandas as pd"
   ]
  },
  {
   "cell_type": "code",
   "execution_count": null,
   "metadata": {},
   "outputs": [],
   "source": []
  },
  {
   "cell_type": "markdown",
   "metadata": {},
   "source": [
    "# week 13\n",
    "\n",
    "* numpy에 관한 내용"
   ]
  },
  {
   "cell_type": "code",
   "execution_count": null,
   "metadata": {},
   "outputs": [],
   "source": []
  },
  {
   "cell_type": "code",
   "execution_count": null,
   "metadata": {},
   "outputs": [],
   "source": []
  }
 ],
 "metadata": {
  "kernelspec": {
   "display_name": "Python 3",
   "language": "python",
   "name": "python3"
  },
  "language_info": {
   "codemirror_mode": {
    "name": "ipython",
    "version": 3
   },
   "file_extension": ".py",
   "mimetype": "text/x-python",
   "name": "python",
   "nbconvert_exporter": "python",
   "pygments_lexer": "ipython3",
   "version": "3.8.5"
  }
 },
 "nbformat": 4,
 "nbformat_minor": 4
}
