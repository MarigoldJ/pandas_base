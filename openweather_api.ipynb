{
 "cells": [
  {
   "cell_type": "markdown",
   "metadata": {},
   "source": [
    "# 1. Import and Option"
   ]
  },
  {
   "cell_type": "code",
   "execution_count": 49,
   "metadata": {},
   "outputs": [],
   "source": [
    "import pandas as pd\n",
    "import requests\n",
    "import json\n",
    "\n",
    "pd.set_option('display.max_rows', 20)\n",
    "pd.set_option('display.max_columns', 15)"
   ]
  },
  {
   "cell_type": "markdown",
   "metadata": {},
   "source": [
    "# 2. Get api key\n",
    "[Check Open Weather Map API key](https://home.openweathermap.org/api_keys)"
   ]
  },
  {
   "cell_type": "code",
   "execution_count": 50,
   "metadata": {},
   "outputs": [
    {
     "name": "stdout",
     "output_type": "stream",
     "text": [
      "openweathermap에서 복사한 api key를 입력해주세요 > a\n"
     ]
    }
   ],
   "source": [
    "# API\n",
    "key = input('openweathermap에서 복사한 api key를 입력해주세요 > ')"
   ]
  },
  {
   "cell_type": "markdown",
   "metadata": {},
   "source": [
    "# 3. Choose cities to check weather\n",
    "[도시 ID 정보 : city.list.json.gz](http://bulk.openweathermap.org/sample/)"
   ]
  },
  {
   "cell_type": "code",
   "execution_count": 51,
   "metadata": {},
   "outputs": [],
   "source": [
    "# 1. 날씨 확인할 도시 직접 지정\n",
    "cities = [\n",
    "    \"Seoul,KR\",\n",
    "    \"Tokyo,JP\",\n",
    "    \"New York,US\",\n",
    "    \"Tonghae,KR\",\n",
    "    \"Seongnam-si,KR\",\n",
    "    \"Hanam,KR\",\n",
    "    \"Gyeongsangnam-do,KR\",\n",
    "]"
   ]
  },
  {
   "cell_type": "code",
   "execution_count": 52,
   "metadata": {},
   "outputs": [
    {
     "name": "stdout",
     "output_type": "stream",
     "text": [
      "국내 날씨 정보를 불러올 수 있는 도시 수 : 242개\n"
     ]
    }
   ],
   "source": [
    "# 2. 국내 모든 도시 지정 ()\n",
    "import gzip\n",
    "import json\n",
    "\n",
    "with gzip.open('city.list.json.gz', 'r') as f:\n",
    "    content = f.read()\n",
    "    \n",
    "json_str = content.decode('utf-8')\n",
    "data = json.loads(json_str)\n",
    "\n",
    "df_city = pd.DataFrame(data)\n",
    "df_kr = df_city[df_city['country']=='KR']\n",
    "\n",
    "# Dataframe의 두 문자열 Series의 원소 합치기\n",
    "# https://rfriend.tistory.com/389\n",
    "df_kr_city = df_kr[['name', 'country']].apply(lambda x: ','.join(x), axis=1)\n",
    "\n",
    "cities_list = df_kr_city.to_list()\n",
    "print(f\"국내 날씨 정보를 불러올 수 있는 도시 수 : {len(cities_list)}개\")"
   ]
  },
  {
   "cell_type": "markdown",
   "metadata": {},
   "source": [
    "# 4. Get Dataframe from url"
   ]
  },
  {
   "cell_type": "code",
   "execution_count": 53,
   "metadata": {},
   "outputs": [],
   "source": [
    "urls = []\n",
    "\n",
    "# 도시 id 리스트 : cities, cities_list\n",
    "for city in cities:\n",
    "    url = f\"http://api.openweathermap.org/data/2.5/weather?q={city}&APPID={key}\"\n",
    "    urls.append(url)\n",
    "\n",
    "df = pd.DataFrame()\n",
    "for url in urls:\n",
    "    res = requests.get(url)\n",
    "    if res.status_code != 200:\n",
    "        continue\n",
    "\n",
    "    K2C = lambda k: k - 273.15\n",
    "    data = json.loads(res.text)\n",
    "    dict_temp = {\n",
    "        '도시': [data['name']],\n",
    "        '날씨': [data['weather'][0]['description']],\n",
    "        '최저기온(섭씨)': [K2C(data['main']['temp_min'])],\n",
    "        '최고기온(섭씨)': [K2C(data['main']['temp_max'])],\n",
    "        '습도': [data['main']['humidity']],\n",
    "        '기압': [data['main']['pressure']],\n",
    "        '풍향': [data['wind']['deg']],\n",
    "        '풍속': [data['wind']['speed']],\n",
    "    }\n",
    "    print(dict_temp)\n",
    "    df_temp = pd.DataFrame(dict_temp)\n",
    "    df = pd.concat([df, df_temp])\n",
    "\n",
    "df = df.reset_index(drop=True)"
   ]
  },
  {
   "cell_type": "markdown",
   "metadata": {},
   "source": [
    "# 5. Check Dataframe"
   ]
  },
  {
   "cell_type": "code",
   "execution_count": 54,
   "metadata": {},
   "outputs": [
    {
     "data": {
      "text/html": [
       "<div>\n",
       "<style scoped>\n",
       "    .dataframe tbody tr th:only-of-type {\n",
       "        vertical-align: middle;\n",
       "    }\n",
       "\n",
       "    .dataframe tbody tr th {\n",
       "        vertical-align: top;\n",
       "    }\n",
       "\n",
       "    .dataframe thead th {\n",
       "        text-align: right;\n",
       "    }\n",
       "</style>\n",
       "<table border=\"1\" class=\"dataframe\">\n",
       "  <thead>\n",
       "    <tr style=\"text-align: right;\">\n",
       "      <th></th>\n",
       "    </tr>\n",
       "  </thead>\n",
       "  <tbody>\n",
       "  </tbody>\n",
       "</table>\n",
       "</div>"
      ],
      "text/plain": [
       "Empty DataFrame\n",
       "Columns: []\n",
       "Index: []"
      ]
     },
     "execution_count": 54,
     "metadata": {},
     "output_type": "execute_result"
    }
   ],
   "source": [
    "df"
   ]
  },
  {
   "cell_type": "code",
   "execution_count": null,
   "metadata": {},
   "outputs": [],
   "source": []
  }
 ],
 "metadata": {
  "kernelspec": {
   "display_name": "Python 3",
   "language": "python",
   "name": "python3"
  },
  "language_info": {
   "codemirror_mode": {
    "name": "ipython",
    "version": 3
   },
   "file_extension": ".py",
   "mimetype": "text/x-python",
   "name": "python",
   "nbconvert_exporter": "python",
   "pygments_lexer": "ipython3",
   "version": "3.8.5"
  }
 },
 "nbformat": 4,
 "nbformat_minor": 4
}
